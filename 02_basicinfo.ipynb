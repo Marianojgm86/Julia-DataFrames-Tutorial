{
 "cells": [
  {
   "cell_type": "markdown",
   "metadata": {},
   "source": [
    "# Introduction to DataFrames\n",
    "**[Bogumił Kamiński](http://bogumilkaminski.pl/about/), May 15, 2021**"
   ]
  },
  {
   "cell_type": "code",
   "execution_count": 4,
   "metadata": {},
   "outputs": [],
   "source": [
    "using DataFrames"
   ]
  },
  {
   "cell_type": "markdown",
   "metadata": {},
   "source": [
    "## Getting basic information about a data frame\n",
    "\n",
    "Let's start by creating a `DataFrame` object, `x`, so that we can learn how to get information on that data frame."
   ]
  },
  {
   "cell_type": "code",
   "execution_count": 10,
   "metadata": {},
   "outputs": [
    {
     "data": {
      "text/html": [
       "<table class=\"data-frame\"><thead><tr><th></th><th>A</th><th>B</th><th>C</th></tr><tr><th></th><th>Int64</th><th>Float64?</th><th>String</th></tr></thead><tbody><p>2 rows × 3 columns</p><tr><th>1</th><td>1</td><td>1.0</td><td>a</td></tr><tr><th>2</th><td>2</td><td><em>missing</em></td><td>b</td></tr></tbody></table>"
      ],
      "text/latex": [
       "\\begin{tabular}{r|ccc}\n",
       "\t& A & B & C\\\\\n",
       "\t\\hline\n",
       "\t& Int64 & Float64? & String\\\\\n",
       "\t\\hline\n",
       "\t1 & 1 & 1.0 & a \\\\\n",
       "\t2 & 2 & \\emph{missing} & b \\\\\n",
       "\\end{tabular}\n"
      ],
      "text/plain": [
       "\u001b[1m2×3 DataFrame\u001b[0m\n",
       "\u001b[1m Row \u001b[0m│\u001b[1m A     \u001b[0m\u001b[1m B         \u001b[0m\u001b[1m C      \u001b[0m\n",
       "\u001b[1m     \u001b[0m│\u001b[90m Int64 \u001b[0m\u001b[90m Float64?  \u001b[0m\u001b[90m String \u001b[0m\n",
       "─────┼──────────────────────────\n",
       "   1 │     1        1.0  a\n",
       "   2 │     2 \u001b[90m missing   \u001b[0m b"
      ]
     },
     "execution_count": 10,
     "metadata": {},
     "output_type": "execute_result"
    }
   ],
   "source": [
    "x = DataFrame(A = [1, 2], B = [1.0, missing], C = [\"a\", \"b\"])"
   ]
  },
  {
   "cell_type": "markdown",
   "metadata": {},
   "source": [
    "The standard `size` function works to get dimensions of the `DataFrame`,"
   ]
  },
  {
   "cell_type": "code",
   "execution_count": 3,
   "metadata": {},
   "outputs": [
    {
     "data": {
      "text/plain": [
       "((2, 3), 2, 3)"
      ]
     },
     "execution_count": 3,
     "metadata": {},
     "output_type": "execute_result"
    }
   ],
   "source": [
    "size(x), size(x, 1), size(x, 2)"
   ]
  },
  {
   "cell_type": "markdown",
   "metadata": {},
   "source": [
    "as well as `nrow` and `ncol` from R."
   ]
  },
  {
   "cell_type": "code",
   "execution_count": 4,
   "metadata": {},
   "outputs": [
    {
     "data": {
      "text/plain": [
       "(2, 3)"
      ]
     },
     "execution_count": 4,
     "metadata": {},
     "output_type": "execute_result"
    }
   ],
   "source": [
    "nrow(x), ncol(x)"
   ]
  },
  {
   "cell_type": "markdown",
   "metadata": {},
   "source": [
    "`describe` gives basic summary statistics of data in your `DataFrame` (check out the help of `describe` for information on how to customize shown statistics)."
   ]
  },
  {
   "cell_type": "code",
   "execution_count": 5,
   "metadata": {},
   "outputs": [
    {
     "data": {
      "text/html": [
       "<table class=\"data-frame\"><thead><tr><th></th><th>variable</th><th>mean</th><th>min</th><th>median</th><th>max</th><th>nmissing</th><th>eltype</th></tr><tr><th></th><th>Symbol</th><th>Union…</th><th>Any</th><th>Union…</th><th>Any</th><th>Int64</th><th>Type</th></tr></thead><tbody><p>3 rows × 7 columns</p><tr><th>1</th><td>A</td><td>1.5</td><td>1</td><td>1.5</td><td>2</td><td>0</td><td>Int64</td></tr><tr><th>2</th><td>B</td><td>1.0</td><td>1.0</td><td>1.0</td><td>1.0</td><td>1</td><td>Union{Missing, Float64}</td></tr><tr><th>3</th><td>C</td><td></td><td>a</td><td></td><td>b</td><td>0</td><td>String</td></tr></tbody></table>"
      ],
      "text/latex": [
       "\\begin{tabular}{r|ccccccc}\n",
       "\t& variable & mean & min & median & max & nmissing & eltype\\\\\n",
       "\t\\hline\n",
       "\t& Symbol & Union… & Any & Union… & Any & Int64 & Type\\\\\n",
       "\t\\hline\n",
       "\t1 & A & 1.5 & 1 & 1.5 & 2 & 0 & Int64 \\\\\n",
       "\t2 & B & 1.0 & 1.0 & 1.0 & 1.0 & 1 & Union\\{Missing, Float64\\} \\\\\n",
       "\t3 & C &  & a &  & b & 0 & String \\\\\n",
       "\\end{tabular}\n"
      ],
      "text/plain": [
       "\u001b[1m3×7 DataFrame\u001b[0m\n",
       "\u001b[1m Row \u001b[0m│\u001b[1m variable \u001b[0m\u001b[1m mean   \u001b[0m\u001b[1m min \u001b[0m\u001b[1m median \u001b[0m\u001b[1m max \u001b[0m\u001b[1m nmissing \u001b[0m\u001b[1m eltype                  \u001b[0m\n",
       "\u001b[1m     \u001b[0m│\u001b[90m Symbol   \u001b[0m\u001b[90m Union… \u001b[0m\u001b[90m Any \u001b[0m\u001b[90m Union… \u001b[0m\u001b[90m Any \u001b[0m\u001b[90m Int64    \u001b[0m\u001b[90m Type                    \u001b[0m\n",
       "─────┼───────────────────────────────────────────────────────────────────────\n",
       "   1 │ A         1.5     1    1.5     2           0  Int64\n",
       "   2 │ B         1.0     1.0  1.0     1.0         1  Union{Missing, Float64}\n",
       "   3 │ C        \u001b[90m        \u001b[0m a   \u001b[90m        \u001b[0m b           0  String"
      ]
     },
     "execution_count": 5,
     "metadata": {},
     "output_type": "execute_result"
    }
   ],
   "source": [
    "describe(x)"
   ]
  },
  {
   "cell_type": "markdown",
   "metadata": {},
   "source": [
    "you can limit the columns shown by `describe` using `cols` keyword argument"
   ]
  },
  {
   "cell_type": "code",
   "execution_count": 6,
   "metadata": {},
   "outputs": [
    {
     "data": {
      "text/html": [
       "<table class=\"data-frame\"><thead><tr><th></th><th>variable</th><th>mean</th><th>min</th><th>median</th><th>max</th><th>nmissing</th><th>eltype</th></tr><tr><th></th><th>Symbol</th><th>Float64</th><th>Real</th><th>Float64</th><th>Real</th><th>Int64</th><th>Type</th></tr></thead><tbody><p>2 rows × 7 columns</p><tr><th>1</th><td>A</td><td>1.5</td><td>1</td><td>1.5</td><td>2</td><td>0</td><td>Int64</td></tr><tr><th>2</th><td>B</td><td>1.0</td><td>1.0</td><td>1.0</td><td>1.0</td><td>1</td><td>Union{Missing, Float64}</td></tr></tbody></table>"
      ],
      "text/latex": [
       "\\begin{tabular}{r|ccccccc}\n",
       "\t& variable & mean & min & median & max & nmissing & eltype\\\\\n",
       "\t\\hline\n",
       "\t& Symbol & Float64 & Real & Float64 & Real & Int64 & Type\\\\\n",
       "\t\\hline\n",
       "\t1 & A & 1.5 & 1 & 1.5 & 2 & 0 & Int64 \\\\\n",
       "\t2 & B & 1.0 & 1.0 & 1.0 & 1.0 & 1 & Union\\{Missing, Float64\\} \\\\\n",
       "\\end{tabular}\n"
      ],
      "text/plain": [
       "\u001b[1m2×7 DataFrame\u001b[0m\n",
       "\u001b[1m Row \u001b[0m│\u001b[1m variable \u001b[0m\u001b[1m mean    \u001b[0m\u001b[1m min  \u001b[0m\u001b[1m median  \u001b[0m\u001b[1m max  \u001b[0m\u001b[1m nmissing \u001b[0m\u001b[1m eltype               \u001b[0m ⋯\n",
       "\u001b[1m     \u001b[0m│\u001b[90m Symbol   \u001b[0m\u001b[90m Float64 \u001b[0m\u001b[90m Real \u001b[0m\u001b[90m Float64 \u001b[0m\u001b[90m Real \u001b[0m\u001b[90m Int64    \u001b[0m\u001b[90m Type                 \u001b[0m ⋯\n",
       "─────┼──────────────────────────────────────────────────────────────────────────\n",
       "   1 │ A             1.5   1        1.5   2           0  Int64                 ⋯\n",
       "   2 │ B             1.0   1.0      1.0   1.0         1  Union{Missing, Float6\n",
       "\u001b[36m                                                                1 column omitted\u001b[0m"
      ]
     },
     "execution_count": 6,
     "metadata": {},
     "output_type": "execute_result"
    }
   ],
   "source": [
    "describe(x, cols=1:2)"
   ]
  },
  {
   "cell_type": "markdown",
   "metadata": {},
   "source": [
    "`names` will return the names of all columns as strings"
   ]
  },
  {
   "cell_type": "code",
   "execution_count": 7,
   "metadata": {},
   "outputs": [
    {
     "data": {
      "text/plain": [
       "3-element Vector{String}:\n",
       " \"A\"\n",
       " \"B\"\n",
       " \"C\""
      ]
     },
     "execution_count": 7,
     "metadata": {},
     "output_type": "execute_result"
    }
   ],
   "source": [
    "names(x)"
   ]
  },
  {
   "cell_type": "markdown",
   "metadata": {},
   "source": [
    "you can also get column names with a given `eltype`:"
   ]
  },
  {
   "cell_type": "code",
   "execution_count": 8,
   "metadata": {},
   "outputs": [
    {
     "data": {
      "text/plain": [
       "1-element Vector{String}:\n",
       " \"C\""
      ]
     },
     "execution_count": 8,
     "metadata": {},
     "output_type": "execute_result"
    }
   ],
   "source": [
    "names(x, String)"
   ]
  },
  {
   "cell_type": "markdown",
   "metadata": {},
   "source": [
    "use `propertynames` to get a vector of `Symbol`s:"
   ]
  },
  {
   "cell_type": "code",
   "execution_count": 9,
   "metadata": {},
   "outputs": [
    {
     "data": {
      "text/plain": [
       "3-element Vector{Symbol}:\n",
       " :A\n",
       " :B\n",
       " :C"
      ]
     },
     "execution_count": 9,
     "metadata": {},
     "output_type": "execute_result"
    }
   ],
   "source": [
    "propertynames(x)"
   ]
  },
  {
   "cell_type": "markdown",
   "metadata": {},
   "source": [
    "using `eltype` on `eachcol(x)` returns element types of columns:"
   ]
  },
  {
   "cell_type": "code",
   "execution_count": 10,
   "metadata": {},
   "outputs": [
    {
     "data": {
      "text/plain": [
       "3-element Vector{Type}:\n",
       " Int64\n",
       " Union{Missing, Float64}\n",
       " String"
      ]
     },
     "execution_count": 10,
     "metadata": {},
     "output_type": "execute_result"
    }
   ],
   "source": [
    "eltype.(eachcol(x))"
   ]
  },
  {
   "cell_type": "markdown",
   "metadata": {},
   "source": [
    "Here we create some large `DataFrame`"
   ]
  },
  {
   "cell_type": "code",
   "execution_count": 11,
   "metadata": {
    "scrolled": true
   },
   "outputs": [
    {
     "data": {
      "text/html": [
       "<table class=\"data-frame\"><thead><tr><th></th><th>x1</th><th>x2</th><th>x3</th><th>x4</th><th>x5</th><th>x6</th><th>x7</th><th>x8</th><th>x9</th><th>x10</th></tr><tr><th></th><th>Int64</th><th>Int64</th><th>Int64</th><th>Int64</th><th>Int64</th><th>Int64</th><th>Int64</th><th>Int64</th><th>Int64</th><th>Int64</th></tr></thead><tbody><p>1,000 rows × 10 columns</p><tr><th>1</th><td>1</td><td>5</td><td>7</td><td>7</td><td>4</td><td>7</td><td>5</td><td>10</td><td>7</td><td>5</td></tr><tr><th>2</th><td>1</td><td>2</td><td>3</td><td>5</td><td>10</td><td>8</td><td>5</td><td>1</td><td>1</td><td>5</td></tr><tr><th>3</th><td>5</td><td>3</td><td>3</td><td>9</td><td>4</td><td>1</td><td>2</td><td>10</td><td>8</td><td>10</td></tr><tr><th>4</th><td>1</td><td>5</td><td>2</td><td>4</td><td>4</td><td>3</td><td>5</td><td>6</td><td>10</td><td>1</td></tr><tr><th>5</th><td>5</td><td>1</td><td>9</td><td>1</td><td>6</td><td>2</td><td>7</td><td>9</td><td>10</td><td>4</td></tr><tr><th>6</th><td>3</td><td>10</td><td>7</td><td>10</td><td>10</td><td>9</td><td>2</td><td>2</td><td>4</td><td>2</td></tr><tr><th>7</th><td>2</td><td>8</td><td>2</td><td>9</td><td>3</td><td>3</td><td>6</td><td>1</td><td>6</td><td>6</td></tr><tr><th>8</th><td>9</td><td>5</td><td>5</td><td>5</td><td>2</td><td>7</td><td>1</td><td>4</td><td>4</td><td>10</td></tr><tr><th>9</th><td>5</td><td>2</td><td>8</td><td>5</td><td>10</td><td>9</td><td>6</td><td>7</td><td>10</td><td>9</td></tr><tr><th>10</th><td>10</td><td>6</td><td>3</td><td>2</td><td>9</td><td>10</td><td>9</td><td>7</td><td>8</td><td>10</td></tr><tr><th>11</th><td>7</td><td>8</td><td>2</td><td>1</td><td>9</td><td>4</td><td>8</td><td>6</td><td>6</td><td>6</td></tr><tr><th>12</th><td>10</td><td>4</td><td>5</td><td>10</td><td>2</td><td>7</td><td>9</td><td>6</td><td>10</td><td>7</td></tr><tr><th>13</th><td>9</td><td>8</td><td>6</td><td>6</td><td>10</td><td>5</td><td>6</td><td>3</td><td>1</td><td>7</td></tr><tr><th>14</th><td>10</td><td>9</td><td>6</td><td>9</td><td>9</td><td>10</td><td>6</td><td>7</td><td>7</td><td>5</td></tr><tr><th>15</th><td>1</td><td>5</td><td>9</td><td>6</td><td>7</td><td>2</td><td>1</td><td>3</td><td>4</td><td>3</td></tr><tr><th>16</th><td>5</td><td>2</td><td>1</td><td>3</td><td>2</td><td>2</td><td>7</td><td>5</td><td>4</td><td>2</td></tr><tr><th>17</th><td>6</td><td>3</td><td>4</td><td>2</td><td>9</td><td>1</td><td>6</td><td>2</td><td>6</td><td>4</td></tr><tr><th>18</th><td>3</td><td>2</td><td>3</td><td>5</td><td>8</td><td>9</td><td>7</td><td>3</td><td>7</td><td>4</td></tr><tr><th>19</th><td>10</td><td>6</td><td>6</td><td>5</td><td>1</td><td>9</td><td>6</td><td>1</td><td>9</td><td>3</td></tr><tr><th>20</th><td>9</td><td>3</td><td>1</td><td>8</td><td>2</td><td>5</td><td>6</td><td>2</td><td>6</td><td>9</td></tr><tr><th>21</th><td>10</td><td>6</td><td>8</td><td>10</td><td>10</td><td>10</td><td>3</td><td>2</td><td>5</td><td>2</td></tr><tr><th>22</th><td>3</td><td>4</td><td>10</td><td>5</td><td>6</td><td>3</td><td>7</td><td>7</td><td>9</td><td>6</td></tr><tr><th>23</th><td>6</td><td>3</td><td>6</td><td>5</td><td>7</td><td>7</td><td>1</td><td>10</td><td>1</td><td>8</td></tr><tr><th>24</th><td>3</td><td>10</td><td>10</td><td>3</td><td>9</td><td>8</td><td>2</td><td>1</td><td>4</td><td>6</td></tr><tr><th>25</th><td>3</td><td>4</td><td>8</td><td>4</td><td>10</td><td>9</td><td>6</td><td>1</td><td>1</td><td>4</td></tr><tr><th>26</th><td>10</td><td>2</td><td>1</td><td>3</td><td>7</td><td>5</td><td>3</td><td>2</td><td>6</td><td>2</td></tr><tr><th>27</th><td>3</td><td>4</td><td>9</td><td>6</td><td>5</td><td>6</td><td>6</td><td>5</td><td>10</td><td>4</td></tr><tr><th>28</th><td>9</td><td>4</td><td>2</td><td>7</td><td>10</td><td>7</td><td>2</td><td>5</td><td>4</td><td>7</td></tr><tr><th>29</th><td>2</td><td>6</td><td>7</td><td>2</td><td>3</td><td>2</td><td>9</td><td>10</td><td>2</td><td>10</td></tr><tr><th>30</th><td>7</td><td>7</td><td>4</td><td>4</td><td>2</td><td>7</td><td>7</td><td>10</td><td>10</td><td>7</td></tr><tr><th>&vellip;</th><td>&vellip;</td><td>&vellip;</td><td>&vellip;</td><td>&vellip;</td><td>&vellip;</td><td>&vellip;</td><td>&vellip;</td><td>&vellip;</td><td>&vellip;</td><td>&vellip;</td></tr></tbody></table>"
      ],
      "text/latex": [
       "\\begin{tabular}{r|cccccccccc}\n",
       "\t& x1 & x2 & x3 & x4 & x5 & x6 & x7 & x8 & x9 & x10\\\\\n",
       "\t\\hline\n",
       "\t& Int64 & Int64 & Int64 & Int64 & Int64 & Int64 & Int64 & Int64 & Int64 & Int64\\\\\n",
       "\t\\hline\n",
       "\t1 & 1 & 5 & 7 & 7 & 4 & 7 & 5 & 10 & 7 & 5 \\\\\n",
       "\t2 & 1 & 2 & 3 & 5 & 10 & 8 & 5 & 1 & 1 & 5 \\\\\n",
       "\t3 & 5 & 3 & 3 & 9 & 4 & 1 & 2 & 10 & 8 & 10 \\\\\n",
       "\t4 & 1 & 5 & 2 & 4 & 4 & 3 & 5 & 6 & 10 & 1 \\\\\n",
       "\t5 & 5 & 1 & 9 & 1 & 6 & 2 & 7 & 9 & 10 & 4 \\\\\n",
       "\t6 & 3 & 10 & 7 & 10 & 10 & 9 & 2 & 2 & 4 & 2 \\\\\n",
       "\t7 & 2 & 8 & 2 & 9 & 3 & 3 & 6 & 1 & 6 & 6 \\\\\n",
       "\t8 & 9 & 5 & 5 & 5 & 2 & 7 & 1 & 4 & 4 & 10 \\\\\n",
       "\t9 & 5 & 2 & 8 & 5 & 10 & 9 & 6 & 7 & 10 & 9 \\\\\n",
       "\t10 & 10 & 6 & 3 & 2 & 9 & 10 & 9 & 7 & 8 & 10 \\\\\n",
       "\t11 & 7 & 8 & 2 & 1 & 9 & 4 & 8 & 6 & 6 & 6 \\\\\n",
       "\t12 & 10 & 4 & 5 & 10 & 2 & 7 & 9 & 6 & 10 & 7 \\\\\n",
       "\t13 & 9 & 8 & 6 & 6 & 10 & 5 & 6 & 3 & 1 & 7 \\\\\n",
       "\t14 & 10 & 9 & 6 & 9 & 9 & 10 & 6 & 7 & 7 & 5 \\\\\n",
       "\t15 & 1 & 5 & 9 & 6 & 7 & 2 & 1 & 3 & 4 & 3 \\\\\n",
       "\t16 & 5 & 2 & 1 & 3 & 2 & 2 & 7 & 5 & 4 & 2 \\\\\n",
       "\t17 & 6 & 3 & 4 & 2 & 9 & 1 & 6 & 2 & 6 & 4 \\\\\n",
       "\t18 & 3 & 2 & 3 & 5 & 8 & 9 & 7 & 3 & 7 & 4 \\\\\n",
       "\t19 & 10 & 6 & 6 & 5 & 1 & 9 & 6 & 1 & 9 & 3 \\\\\n",
       "\t20 & 9 & 3 & 1 & 8 & 2 & 5 & 6 & 2 & 6 & 9 \\\\\n",
       "\t21 & 10 & 6 & 8 & 10 & 10 & 10 & 3 & 2 & 5 & 2 \\\\\n",
       "\t22 & 3 & 4 & 10 & 5 & 6 & 3 & 7 & 7 & 9 & 6 \\\\\n",
       "\t23 & 6 & 3 & 6 & 5 & 7 & 7 & 1 & 10 & 1 & 8 \\\\\n",
       "\t24 & 3 & 10 & 10 & 3 & 9 & 8 & 2 & 1 & 4 & 6 \\\\\n",
       "\t25 & 3 & 4 & 8 & 4 & 10 & 9 & 6 & 1 & 1 & 4 \\\\\n",
       "\t26 & 10 & 2 & 1 & 3 & 7 & 5 & 3 & 2 & 6 & 2 \\\\\n",
       "\t27 & 3 & 4 & 9 & 6 & 5 & 6 & 6 & 5 & 10 & 4 \\\\\n",
       "\t28 & 9 & 4 & 2 & 7 & 10 & 7 & 2 & 5 & 4 & 7 \\\\\n",
       "\t29 & 2 & 6 & 7 & 2 & 3 & 2 & 9 & 10 & 2 & 10 \\\\\n",
       "\t30 & 7 & 7 & 4 & 4 & 2 & 7 & 7 & 10 & 10 & 7 \\\\\n",
       "\t$\\dots$ & $\\dots$ & $\\dots$ & $\\dots$ & $\\dots$ & $\\dots$ & $\\dots$ & $\\dots$ & $\\dots$ & $\\dots$ & $\\dots$ \\\\\n",
       "\\end{tabular}\n"
      ],
      "text/plain": [
       "\u001b[1m1000×10 DataFrame\u001b[0m\n",
       "\u001b[1m  Row \u001b[0m│\u001b[1m x1    \u001b[0m\u001b[1m x2    \u001b[0m\u001b[1m x3    \u001b[0m\u001b[1m x4    \u001b[0m\u001b[1m x5    \u001b[0m\u001b[1m x6    \u001b[0m\u001b[1m x7    \u001b[0m\u001b[1m x8    \u001b[0m\u001b[1m x9    \u001b[0m\u001b[1m x10   \u001b[0m\n",
       "\u001b[1m      \u001b[0m│\u001b[90m Int64 \u001b[0m\u001b[90m Int64 \u001b[0m\u001b[90m Int64 \u001b[0m\u001b[90m Int64 \u001b[0m\u001b[90m Int64 \u001b[0m\u001b[90m Int64 \u001b[0m\u001b[90m Int64 \u001b[0m\u001b[90m Int64 \u001b[0m\u001b[90m Int64 \u001b[0m\u001b[90m Int64 \u001b[0m\n",
       "──────┼──────────────────────────────────────────────────────────────────────\n",
       "    1 │     1      5      7      7      4      7      5     10      7      5\n",
       "    2 │     1      2      3      5     10      8      5      1      1      5\n",
       "    3 │     5      3      3      9      4      1      2     10      8     10\n",
       "    4 │     1      5      2      4      4      3      5      6     10      1\n",
       "    5 │     5      1      9      1      6      2      7      9     10      4\n",
       "    6 │     3     10      7     10     10      9      2      2      4      2\n",
       "    7 │     2      8      2      9      3      3      6      1      6      6\n",
       "    8 │     9      5      5      5      2      7      1      4      4     10\n",
       "    9 │     5      2      8      5     10      9      6      7     10      9\n",
       "   10 │    10      6      3      2      9     10      9      7      8     10\n",
       "   11 │     7      8      2      1      9      4      8      6      6      6\n",
       "  ⋮   │   ⋮      ⋮      ⋮      ⋮      ⋮      ⋮      ⋮      ⋮      ⋮      ⋮\n",
       "  991 │     2      2      1      8      7      6      1      8      3      4\n",
       "  992 │     3      8      9      9      2      2     10      6      4      7\n",
       "  993 │     6      8      4      2      8      2      8      6      6     10\n",
       "  994 │     5      1      3      7      1      5     10      2     10      7\n",
       "  995 │     5      5     10      8      6     10      6      5      4      5\n",
       "  996 │     7      8      8      3      6      5      7      9      9      8\n",
       "  997 │     8      5      5      9      7      9      8      1      3      3\n",
       "  998 │     2      1      4      1     10      2      6      3      2      1\n",
       "  999 │    10      2      1      6      5      3      6      4      6      2\n",
       " 1000 │     1      1      6      4      3      8      9      1      2     10\n",
       "\u001b[36m                                                             979 rows omitted\u001b[0m"
      ]
     },
     "execution_count": 11,
     "metadata": {},
     "output_type": "execute_result"
    }
   ],
   "source": [
    "y = DataFrame(rand(1:10, 1000, 10), :auto)"
   ]
  },
  {
   "cell_type": "markdown",
   "metadata": {},
   "source": [
    "and then we can use `first` to peek into its first few rows"
   ]
  },
  {
   "cell_type": "code",
   "execution_count": 12,
   "metadata": {},
   "outputs": [
    {
     "data": {
      "text/html": [
       "<table class=\"data-frame\"><thead><tr><th></th><th>x1</th><th>x2</th><th>x3</th><th>x4</th><th>x5</th><th>x6</th><th>x7</th><th>x8</th><th>x9</th><th>x10</th></tr><tr><th></th><th>Int64</th><th>Int64</th><th>Int64</th><th>Int64</th><th>Int64</th><th>Int64</th><th>Int64</th><th>Int64</th><th>Int64</th><th>Int64</th></tr></thead><tbody><p>5 rows × 10 columns</p><tr><th>1</th><td>1</td><td>5</td><td>7</td><td>7</td><td>4</td><td>7</td><td>5</td><td>10</td><td>7</td><td>5</td></tr><tr><th>2</th><td>1</td><td>2</td><td>3</td><td>5</td><td>10</td><td>8</td><td>5</td><td>1</td><td>1</td><td>5</td></tr><tr><th>3</th><td>5</td><td>3</td><td>3</td><td>9</td><td>4</td><td>1</td><td>2</td><td>10</td><td>8</td><td>10</td></tr><tr><th>4</th><td>1</td><td>5</td><td>2</td><td>4</td><td>4</td><td>3</td><td>5</td><td>6</td><td>10</td><td>1</td></tr><tr><th>5</th><td>5</td><td>1</td><td>9</td><td>1</td><td>6</td><td>2</td><td>7</td><td>9</td><td>10</td><td>4</td></tr></tbody></table>"
      ],
      "text/latex": [
       "\\begin{tabular}{r|cccccccccc}\n",
       "\t& x1 & x2 & x3 & x4 & x5 & x6 & x7 & x8 & x9 & x10\\\\\n",
       "\t\\hline\n",
       "\t& Int64 & Int64 & Int64 & Int64 & Int64 & Int64 & Int64 & Int64 & Int64 & Int64\\\\\n",
       "\t\\hline\n",
       "\t1 & 1 & 5 & 7 & 7 & 4 & 7 & 5 & 10 & 7 & 5 \\\\\n",
       "\t2 & 1 & 2 & 3 & 5 & 10 & 8 & 5 & 1 & 1 & 5 \\\\\n",
       "\t3 & 5 & 3 & 3 & 9 & 4 & 1 & 2 & 10 & 8 & 10 \\\\\n",
       "\t4 & 1 & 5 & 2 & 4 & 4 & 3 & 5 & 6 & 10 & 1 \\\\\n",
       "\t5 & 5 & 1 & 9 & 1 & 6 & 2 & 7 & 9 & 10 & 4 \\\\\n",
       "\\end{tabular}\n"
      ],
      "text/plain": [
       "\u001b[1m5×10 DataFrame\u001b[0m\n",
       "\u001b[1m Row \u001b[0m│\u001b[1m x1    \u001b[0m\u001b[1m x2    \u001b[0m\u001b[1m x3    \u001b[0m\u001b[1m x4    \u001b[0m\u001b[1m x5    \u001b[0m\u001b[1m x6    \u001b[0m\u001b[1m x7    \u001b[0m\u001b[1m x8    \u001b[0m\u001b[1m x9    \u001b[0m\u001b[1m x10   \u001b[0m\n",
       "\u001b[1m     \u001b[0m│\u001b[90m Int64 \u001b[0m\u001b[90m Int64 \u001b[0m\u001b[90m Int64 \u001b[0m\u001b[90m Int64 \u001b[0m\u001b[90m Int64 \u001b[0m\u001b[90m Int64 \u001b[0m\u001b[90m Int64 \u001b[0m\u001b[90m Int64 \u001b[0m\u001b[90m Int64 \u001b[0m\u001b[90m Int64 \u001b[0m\n",
       "─────┼──────────────────────────────────────────────────────────────────────\n",
       "   1 │     1      5      7      7      4      7      5     10      7      5\n",
       "   2 │     1      2      3      5     10      8      5      1      1      5\n",
       "   3 │     5      3      3      9      4      1      2     10      8     10\n",
       "   4 │     1      5      2      4      4      3      5      6     10      1\n",
       "   5 │     5      1      9      1      6      2      7      9     10      4"
      ]
     },
     "execution_count": 12,
     "metadata": {},
     "output_type": "execute_result"
    }
   ],
   "source": [
    "first(y, 5)"
   ]
  },
  {
   "cell_type": "markdown",
   "metadata": {},
   "source": [
    "and `last` to see its bottom rows."
   ]
  },
  {
   "cell_type": "code",
   "execution_count": 13,
   "metadata": {},
   "outputs": [
    {
     "data": {
      "text/html": [
       "<table class=\"data-frame\"><thead><tr><th></th><th>x1</th><th>x2</th><th>x3</th><th>x4</th><th>x5</th><th>x6</th><th>x7</th><th>x8</th><th>x9</th><th>x10</th></tr><tr><th></th><th>Int64</th><th>Int64</th><th>Int64</th><th>Int64</th><th>Int64</th><th>Int64</th><th>Int64</th><th>Int64</th><th>Int64</th><th>Int64</th></tr></thead><tbody><p>3 rows × 10 columns</p><tr><th>1</th><td>2</td><td>1</td><td>4</td><td>1</td><td>10</td><td>2</td><td>6</td><td>3</td><td>2</td><td>1</td></tr><tr><th>2</th><td>10</td><td>2</td><td>1</td><td>6</td><td>5</td><td>3</td><td>6</td><td>4</td><td>6</td><td>2</td></tr><tr><th>3</th><td>1</td><td>1</td><td>6</td><td>4</td><td>3</td><td>8</td><td>9</td><td>1</td><td>2</td><td>10</td></tr></tbody></table>"
      ],
      "text/latex": [
       "\\begin{tabular}{r|cccccccccc}\n",
       "\t& x1 & x2 & x3 & x4 & x5 & x6 & x7 & x8 & x9 & x10\\\\\n",
       "\t\\hline\n",
       "\t& Int64 & Int64 & Int64 & Int64 & Int64 & Int64 & Int64 & Int64 & Int64 & Int64\\\\\n",
       "\t\\hline\n",
       "\t1 & 2 & 1 & 4 & 1 & 10 & 2 & 6 & 3 & 2 & 1 \\\\\n",
       "\t2 & 10 & 2 & 1 & 6 & 5 & 3 & 6 & 4 & 6 & 2 \\\\\n",
       "\t3 & 1 & 1 & 6 & 4 & 3 & 8 & 9 & 1 & 2 & 10 \\\\\n",
       "\\end{tabular}\n"
      ],
      "text/plain": [
       "\u001b[1m3×10 DataFrame\u001b[0m\n",
       "\u001b[1m Row \u001b[0m│\u001b[1m x1    \u001b[0m\u001b[1m x2    \u001b[0m\u001b[1m x3    \u001b[0m\u001b[1m x4    \u001b[0m\u001b[1m x5    \u001b[0m\u001b[1m x6    \u001b[0m\u001b[1m x7    \u001b[0m\u001b[1m x8    \u001b[0m\u001b[1m x9    \u001b[0m\u001b[1m x10   \u001b[0m\n",
       "\u001b[1m     \u001b[0m│\u001b[90m Int64 \u001b[0m\u001b[90m Int64 \u001b[0m\u001b[90m Int64 \u001b[0m\u001b[90m Int64 \u001b[0m\u001b[90m Int64 \u001b[0m\u001b[90m Int64 \u001b[0m\u001b[90m Int64 \u001b[0m\u001b[90m Int64 \u001b[0m\u001b[90m Int64 \u001b[0m\u001b[90m Int64 \u001b[0m\n",
       "─────┼──────────────────────────────────────────────────────────────────────\n",
       "   1 │     2      1      4      1     10      2      6      3      2      1\n",
       "   2 │    10      2      1      6      5      3      6      4      6      2\n",
       "   3 │     1      1      6      4      3      8      9      1      2     10"
      ]
     },
     "execution_count": 13,
     "metadata": {},
     "output_type": "execute_result"
    }
   ],
   "source": [
    "last(y, 3)"
   ]
  },
  {
   "cell_type": "markdown",
   "metadata": {},
   "source": [
    "Using `first` and `last` without number of rows will return a first/last `DataFrameRow` in the `DataFrame`"
   ]
  },
  {
   "cell_type": "code",
   "execution_count": 14,
   "metadata": {},
   "outputs": [
    {
     "data": {
      "text/html": [
       "<p>DataFrameRow (10 columns)</p><table class=\"data-frame\"><thead><tr><th></th><th>x1</th><th>x2</th><th>x3</th><th>x4</th><th>x5</th><th>x6</th><th>x7</th><th>x8</th><th>x9</th><th>x10</th></tr><tr><th></th><th>Int64</th><th>Int64</th><th>Int64</th><th>Int64</th><th>Int64</th><th>Int64</th><th>Int64</th><th>Int64</th><th>Int64</th><th>Int64</th></tr></thead><tbody><tr><th>1</th><td>1</td><td>5</td><td>7</td><td>7</td><td>4</td><td>7</td><td>5</td><td>10</td><td>7</td><td>5</td></tr></tbody></table>"
      ],
      "text/latex": [
       "\\begin{tabular}{r|cccccccccc}\n",
       "\t& x1 & x2 & x3 & x4 & x5 & x6 & x7 & x8 & x9 & x10\\\\\n",
       "\t\\hline\n",
       "\t& Int64 & Int64 & Int64 & Int64 & Int64 & Int64 & Int64 & Int64 & Int64 & Int64\\\\\n",
       "\t\\hline\n",
       "\t1 & 1 & 5 & 7 & 7 & 4 & 7 & 5 & 10 & 7 & 5 \\\\\n",
       "\\end{tabular}\n"
      ],
      "text/plain": [
       "\u001b[1mDataFrameRow\u001b[0m\n",
       "\u001b[1m Row \u001b[0m│\u001b[1m x1    \u001b[0m\u001b[1m x2    \u001b[0m\u001b[1m x3    \u001b[0m\u001b[1m x4    \u001b[0m\u001b[1m x5    \u001b[0m\u001b[1m x6    \u001b[0m\u001b[1m x7    \u001b[0m\u001b[1m x8    \u001b[0m\u001b[1m x9    \u001b[0m\u001b[1m x10   \u001b[0m\n",
       "\u001b[1m     \u001b[0m│\u001b[90m Int64 \u001b[0m\u001b[90m Int64 \u001b[0m\u001b[90m Int64 \u001b[0m\u001b[90m Int64 \u001b[0m\u001b[90m Int64 \u001b[0m\u001b[90m Int64 \u001b[0m\u001b[90m Int64 \u001b[0m\u001b[90m Int64 \u001b[0m\u001b[90m Int64 \u001b[0m\u001b[90m Int64 \u001b[0m\n",
       "─────┼──────────────────────────────────────────────────────────────────────\n",
       "   1 │     1      5      7      7      4      7      5     10      7      5"
      ]
     },
     "execution_count": 14,
     "metadata": {},
     "output_type": "execute_result"
    }
   ],
   "source": [
    "first(y)"
   ]
  },
  {
   "cell_type": "code",
   "execution_count": 15,
   "metadata": {},
   "outputs": [
    {
     "data": {
      "text/html": [
       "<p>DataFrameRow (10 columns)</p><table class=\"data-frame\"><thead><tr><th></th><th>x1</th><th>x2</th><th>x3</th><th>x4</th><th>x5</th><th>x6</th><th>x7</th><th>x8</th><th>x9</th><th>x10</th></tr><tr><th></th><th>Int64</th><th>Int64</th><th>Int64</th><th>Int64</th><th>Int64</th><th>Int64</th><th>Int64</th><th>Int64</th><th>Int64</th><th>Int64</th></tr></thead><tbody><tr><th>1000</th><td>1</td><td>1</td><td>6</td><td>4</td><td>3</td><td>8</td><td>9</td><td>1</td><td>2</td><td>10</td></tr></tbody></table>"
      ],
      "text/latex": [
       "\\begin{tabular}{r|cccccccccc}\n",
       "\t& x1 & x2 & x3 & x4 & x5 & x6 & x7 & x8 & x9 & x10\\\\\n",
       "\t\\hline\n",
       "\t& Int64 & Int64 & Int64 & Int64 & Int64 & Int64 & Int64 & Int64 & Int64 & Int64\\\\\n",
       "\t\\hline\n",
       "\t1000 & 1 & 1 & 6 & 4 & 3 & 8 & 9 & 1 & 2 & 10 \\\\\n",
       "\\end{tabular}\n"
      ],
      "text/plain": [
       "\u001b[1mDataFrameRow\u001b[0m\n",
       "\u001b[1m  Row \u001b[0m│\u001b[1m x1    \u001b[0m\u001b[1m x2    \u001b[0m\u001b[1m x3    \u001b[0m\u001b[1m x4    \u001b[0m\u001b[1m x5    \u001b[0m\u001b[1m x6    \u001b[0m\u001b[1m x7    \u001b[0m\u001b[1m x8    \u001b[0m\u001b[1m x9    \u001b[0m\u001b[1m x10   \u001b[0m\n",
       "\u001b[1m      \u001b[0m│\u001b[90m Int64 \u001b[0m\u001b[90m Int64 \u001b[0m\u001b[90m Int64 \u001b[0m\u001b[90m Int64 \u001b[0m\u001b[90m Int64 \u001b[0m\u001b[90m Int64 \u001b[0m\u001b[90m Int64 \u001b[0m\u001b[90m Int64 \u001b[0m\u001b[90m Int64 \u001b[0m\u001b[90m Int64 \u001b[0m\n",
       "──────┼──────────────────────────────────────────────────────────────────────\n",
       " 1000 │     1      1      6      4      3      8      9      1      2     10"
      ]
     },
     "execution_count": 15,
     "metadata": {},
     "output_type": "execute_result"
    }
   ],
   "source": [
    "last(y)"
   ]
  },
  {
   "cell_type": "markdown",
   "metadata": {},
   "source": [
    "### Displaying large data frames"
   ]
  },
  {
   "cell_type": "markdown",
   "metadata": {},
   "source": [
    "Create a wide and tall data frame:"
   ]
  },
  {
   "cell_type": "code",
   "execution_count": 5,
   "metadata": {
    "scrolled": true
   },
   "outputs": [
    {
     "data": {
      "text/html": [
       "<table class=\"data-frame\"><thead><tr><th></th><th>x1</th><th>x2</th><th>x3</th><th>x4</th><th>x5</th><th>x6</th><th>x7</th><th>x8</th><th>x9</th><th>x10</th><th>x11</th><th>x12</th><th>x13</th><th>x14</th><th>x15</th><th>x16</th><th>x17</th><th>x18</th></tr><tr><th></th><th>Float64</th><th>Float64</th><th>Float64</th><th>Float64</th><th>Float64</th><th>Float64</th><th>Float64</th><th>Float64</th><th>Float64</th><th>Float64</th><th>Float64</th><th>Float64</th><th>Float64</th><th>Float64</th><th>Float64</th><th>Float64</th><th>Float64</th><th>Float64</th></tr></thead><tbody><p>100 rows × 100 columns (omitted printing of 82 columns)</p><tr><th>1</th><td>0.560112</td><td>0.34785</td><td>0.46048</td><td>0.272047</td><td>0.434666</td><td>0.523006</td><td>0.366765</td><td>0.692849</td><td>0.0182276</td><td>0.56787</td><td>0.126195</td><td>0.836707</td><td>0.502718</td><td>0.197715</td><td>0.863796</td><td>0.42712</td><td>0.483491</td><td>0.575213</td></tr><tr><th>2</th><td>0.101218</td><td>0.831049</td><td>0.939589</td><td>0.00836025</td><td>0.333759</td><td>0.465561</td><td>0.850519</td><td>0.258855</td><td>0.828379</td><td>0.813645</td><td>0.430874</td><td>0.255625</td><td>0.671253</td><td>0.993977</td><td>0.139012</td><td>0.407517</td><td>0.68229</td><td>0.128172</td></tr><tr><th>3</th><td>0.794444</td><td>0.816548</td><td>0.402866</td><td>0.241552</td><td>0.379048</td><td>0.508312</td><td>0.221634</td><td>0.491104</td><td>0.521677</td><td>0.706617</td><td>0.465464</td><td>0.0365372</td><td>0.552099</td><td>0.925934</td><td>0.479227</td><td>0.318779</td><td>0.877339</td><td>0.639738</td></tr><tr><th>4</th><td>0.676399</td><td>0.847578</td><td>0.257867</td><td>0.102486</td><td>0.12445</td><td>0.68608</td><td>0.62904</td><td>0.892083</td><td>0.781573</td><td>0.430657</td><td>0.165216</td><td>0.506197</td><td>0.474381</td><td>0.0733915</td><td>0.858714</td><td>0.135377</td><td>0.507094</td><td>0.785477</td></tr><tr><th>5</th><td>0.37018</td><td>0.101379</td><td>0.854337</td><td>0.880262</td><td>0.848782</td><td>0.613272</td><td>0.117048</td><td>0.817252</td><td>0.313958</td><td>0.481686</td><td>0.355854</td><td>0.142603</td><td>0.234358</td><td>0.147062</td><td>0.533623</td><td>0.863244</td><td>0.483846</td><td>0.92905</td></tr><tr><th>6</th><td>0.232969</td><td>0.332381</td><td>0.78382</td><td>0.0429327</td><td>0.850875</td><td>0.539418</td><td>0.000194967</td><td>0.178391</td><td>0.923166</td><td>0.700625</td><td>0.623579</td><td>0.640277</td><td>0.325739</td><td>0.119281</td><td>0.147915</td><td>0.230693</td><td>0.896051</td><td>0.818241</td></tr><tr><th>7</th><td>0.432675</td><td>0.166874</td><td>0.637324</td><td>0.405522</td><td>0.878704</td><td>0.505487</td><td>0.731529</td><td>0.643839</td><td>0.253458</td><td>0.481024</td><td>0.27002</td><td>0.274179</td><td>0.818023</td><td>0.56566</td><td>0.438065</td><td>0.229276</td><td>0.431989</td><td>0.242784</td></tr><tr><th>8</th><td>0.806937</td><td>0.629779</td><td>0.0853888</td><td>0.939315</td><td>0.436427</td><td>0.738708</td><td>0.977319</td><td>0.495783</td><td>0.471718</td><td>0.676387</td><td>0.205386</td><td>0.405248</td><td>0.87975</td><td>0.643365</td><td>0.217949</td><td>0.62858</td><td>0.519742</td><td>0.35865</td></tr><tr><th>9</th><td>0.472709</td><td>0.288684</td><td>0.837002</td><td>0.889839</td><td>0.814862</td><td>0.0936993</td><td>0.452114</td><td>0.561233</td><td>0.886545</td><td>0.89729</td><td>0.642871</td><td>0.0617087</td><td>0.00580565</td><td>0.523122</td><td>0.113439</td><td>0.624716</td><td>0.578702</td><td>0.302118</td></tr><tr><th>10</th><td>0.254605</td><td>0.0938204</td><td>0.710157</td><td>0.947572</td><td>0.41528</td><td>0.814393</td><td>0.555249</td><td>0.355161</td><td>0.808005</td><td>0.29645</td><td>0.61728</td><td>0.0589249</td><td>0.1176</td><td>0.393081</td><td>0.130595</td><td>0.142441</td><td>0.0797183</td><td>0.242608</td></tr><tr><th>11</th><td>0.416157</td><td>0.765205</td><td>0.7582</td><td>0.481916</td><td>0.911273</td><td>0.788528</td><td>0.407249</td><td>0.468507</td><td>0.122979</td><td>0.0308429</td><td>0.345862</td><td>0.740037</td><td>0.120393</td><td>0.407799</td><td>0.547078</td><td>0.0111255</td><td>0.923068</td><td>0.257181</td></tr><tr><th>12</th><td>0.973424</td><td>0.354805</td><td>0.574562</td><td>0.79613</td><td>0.528279</td><td>0.337961</td><td>0.76578</td><td>0.960514</td><td>0.328026</td><td>0.9571</td><td>0.992648</td><td>0.709295</td><td>0.0628798</td><td>0.906015</td><td>0.303889</td><td>0.114287</td><td>0.158817</td><td>0.20643</td></tr><tr><th>13</th><td>0.44799</td><td>0.503359</td><td>0.719398</td><td>0.287602</td><td>0.765496</td><td>0.402826</td><td>0.603597</td><td>0.622229</td><td>0.866316</td><td>0.724606</td><td>0.657252</td><td>0.371267</td><td>0.0353759</td><td>0.223278</td><td>0.742595</td><td>0.0190329</td><td>0.673567</td><td>0.147104</td></tr><tr><th>14</th><td>0.606866</td><td>0.329146</td><td>0.598404</td><td>0.0724286</td><td>0.913742</td><td>0.804762</td><td>0.45117</td><td>0.320534</td><td>0.131442</td><td>0.139999</td><td>0.178219</td><td>0.978282</td><td>0.777437</td><td>0.181618</td><td>0.268516</td><td>0.401718</td><td>0.0587458</td><td>0.899202</td></tr><tr><th>15</th><td>0.998816</td><td>0.784934</td><td>0.712012</td><td>0.891144</td><td>0.887519</td><td>0.887852</td><td>0.261963</td><td>0.715893</td><td>0.572899</td><td>0.292069</td><td>0.264581</td><td>0.495618</td><td>0.247445</td><td>0.792316</td><td>0.117373</td><td>0.31493</td><td>0.51308</td><td>0.0412688</td></tr><tr><th>16</th><td>0.10004</td><td>0.790209</td><td>0.903976</td><td>0.2417</td><td>0.0369944</td><td>0.384263</td><td>0.0610109</td><td>0.0822801</td><td>0.518761</td><td>0.163173</td><td>0.620518</td><td>0.399465</td><td>0.417046</td><td>0.394126</td><td>0.90944</td><td>0.642788</td><td>0.743254</td><td>0.0726407</td></tr><tr><th>17</th><td>0.811174</td><td>0.930114</td><td>0.674815</td><td>0.574118</td><td>0.16497</td><td>0.668715</td><td>0.775797</td><td>0.290974</td><td>0.331879</td><td>0.0578237</td><td>0.864998</td><td>0.221327</td><td>0.822081</td><td>0.832337</td><td>0.650177</td><td>0.455931</td><td>0.11101</td><td>0.286827</td></tr><tr><th>18</th><td>0.376574</td><td>0.253162</td><td>0.989481</td><td>0.417934</td><td>0.382989</td><td>0.0145986</td><td>0.670837</td><td>0.554227</td><td>0.825367</td><td>0.654507</td><td>0.677225</td><td>0.444551</td><td>0.259486</td><td>0.225206</td><td>0.710308</td><td>0.947794</td><td>0.656049</td><td>0.317714</td></tr><tr><th>19</th><td>0.596911</td><td>0.468399</td><td>0.19144</td><td>0.706054</td><td>0.901398</td><td>0.926052</td><td>0.579245</td><td>0.961618</td><td>0.870115</td><td>0.171237</td><td>0.325738</td><td>0.274563</td><td>0.330477</td><td>0.213104</td><td>0.973826</td><td>0.77425</td><td>0.346371</td><td>0.653922</td></tr><tr><th>20</th><td>0.13821</td><td>0.947414</td><td>0.981801</td><td>0.850708</td><td>0.633985</td><td>0.54286</td><td>0.505739</td><td>0.344459</td><td>0.0998274</td><td>0.415358</td><td>0.157789</td><td>0.57172</td><td>0.623374</td><td>0.574794</td><td>0.719108</td><td>0.0502714</td><td>0.792293</td><td>0.215517</td></tr><tr><th>21</th><td>0.339459</td><td>0.729134</td><td>0.875327</td><td>0.574672</td><td>0.051323</td><td>0.0552795</td><td>0.16456</td><td>0.291464</td><td>0.4651</td><td>0.0706782</td><td>0.0521499</td><td>0.841877</td><td>0.189593</td><td>0.638494</td><td>0.643153</td><td>0.511072</td><td>0.789336</td><td>0.0832936</td></tr><tr><th>22</th><td>0.895358</td><td>0.603476</td><td>0.0115765</td><td>0.587752</td><td>0.206596</td><td>0.424714</td><td>0.199726</td><td>0.946425</td><td>0.731449</td><td>0.2863</td><td>0.573164</td><td>0.183032</td><td>0.503628</td><td>0.467365</td><td>0.605166</td><td>0.392998</td><td>0.262194</td><td>0.537604</td></tr><tr><th>23</th><td>0.526093</td><td>0.166804</td><td>0.116049</td><td>0.846126</td><td>0.593467</td><td>0.775411</td><td>0.25288</td><td>0.00698633</td><td>0.335163</td><td>0.982051</td><td>0.90453</td><td>0.929488</td><td>0.08494</td><td>0.887293</td><td>0.625058</td><td>0.148857</td><td>0.609282</td><td>0.171176</td></tr><tr><th>24</th><td>0.186497</td><td>0.334441</td><td>0.572789</td><td>0.138462</td><td>0.9635</td><td>0.843481</td><td>0.652468</td><td>0.771016</td><td>0.348222</td><td>0.806159</td><td>0.91552</td><td>0.194489</td><td>0.151596</td><td>0.971041</td><td>0.902016</td><td>0.468121</td><td>0.13177</td><td>0.0500914</td></tr><tr><th>25</th><td>0.640224</td><td>0.884959</td><td>0.527783</td><td>0.778593</td><td>0.11694</td><td>0.18067</td><td>0.077842</td><td>0.60556</td><td>0.0556549</td><td>0.624016</td><td>0.646965</td><td>0.785476</td><td>0.355835</td><td>0.460485</td><td>0.121149</td><td>0.544575</td><td>0.0139631</td><td>0.96475</td></tr><tr><th>26</th><td>0.783573</td><td>0.252141</td><td>0.998325</td><td>0.473461</td><td>0.237072</td><td>0.31733</td><td>0.862929</td><td>0.0308534</td><td>0.424444</td><td>0.903104</td><td>0.312939</td><td>0.443258</td><td>0.602381</td><td>0.829934</td><td>0.640628</td><td>0.870003</td><td>0.865747</td><td>0.785227</td></tr><tr><th>27</th><td>0.506488</td><td>0.357337</td><td>0.244599</td><td>0.133166</td><td>0.511189</td><td>0.896837</td><td>0.170752</td><td>0.679381</td><td>0.335176</td><td>0.870422</td><td>0.548232</td><td>0.0112489</td><td>0.180657</td><td>0.225945</td><td>0.932809</td><td>0.706212</td><td>0.65338</td><td>0.836574</td></tr><tr><th>28</th><td>0.275901</td><td>0.339588</td><td>0.104024</td><td>0.505626</td><td>0.747147</td><td>0.549658</td><td>0.586246</td><td>0.838082</td><td>0.233815</td><td>0.648315</td><td>0.176148</td><td>0.621518</td><td>0.834586</td><td>0.647831</td><td>0.242246</td><td>0.915032</td><td>0.377372</td><td>0.0987644</td></tr><tr><th>29</th><td>0.930521</td><td>0.957795</td><td>0.397251</td><td>0.537883</td><td>0.795843</td><td>0.603764</td><td>0.919534</td><td>0.345545</td><td>0.108315</td><td>0.763646</td><td>0.685173</td><td>0.435075</td><td>0.598447</td><td>0.864442</td><td>0.619509</td><td>0.402293</td><td>0.470558</td><td>0.590311</td></tr><tr><th>30</th><td>0.546738</td><td>0.777806</td><td>0.0507999</td><td>0.819853</td><td>0.25449</td><td>0.790963</td><td>0.762888</td><td>0.796993</td><td>0.621704</td><td>0.358672</td><td>0.647678</td><td>0.523739</td><td>0.111118</td><td>0.344574</td><td>0.826954</td><td>0.607786</td><td>0.556459</td><td>0.174272</td></tr><tr><th>&vellip;</th><td>&vellip;</td><td>&vellip;</td><td>&vellip;</td><td>&vellip;</td><td>&vellip;</td><td>&vellip;</td><td>&vellip;</td><td>&vellip;</td><td>&vellip;</td><td>&vellip;</td><td>&vellip;</td><td>&vellip;</td><td>&vellip;</td><td>&vellip;</td><td>&vellip;</td><td>&vellip;</td><td>&vellip;</td><td>&vellip;</td></tr></tbody></table>"
      ],
      "text/latex": [
       "\\begin{tabular}{r|ccccccccccccccccccc}\n",
       "\t& x1 & x2 & x3 & x4 & x5 & x6 & x7 & x8 & x9 & x10 & x11 & x12 & x13 & x14 & x15 & x16 & x17 & x18 & \\\\\n",
       "\t\\hline\n",
       "\t& Float64 & Float64 & Float64 & Float64 & Float64 & Float64 & Float64 & Float64 & Float64 & Float64 & Float64 & Float64 & Float64 & Float64 & Float64 & Float64 & Float64 & Float64 & \\\\\n",
       "\t\\hline\n",
       "\t1 & 0.560112 & 0.34785 & 0.46048 & 0.272047 & 0.434666 & 0.523006 & 0.366765 & 0.692849 & 0.0182276 & 0.56787 & 0.126195 & 0.836707 & 0.502718 & 0.197715 & 0.863796 & 0.42712 & 0.483491 & 0.575213 & $\\dots$ \\\\\n",
       "\t2 & 0.101218 & 0.831049 & 0.939589 & 0.00836025 & 0.333759 & 0.465561 & 0.850519 & 0.258855 & 0.828379 & 0.813645 & 0.430874 & 0.255625 & 0.671253 & 0.993977 & 0.139012 & 0.407517 & 0.68229 & 0.128172 & $\\dots$ \\\\\n",
       "\t3 & 0.794444 & 0.816548 & 0.402866 & 0.241552 & 0.379048 & 0.508312 & 0.221634 & 0.491104 & 0.521677 & 0.706617 & 0.465464 & 0.0365372 & 0.552099 & 0.925934 & 0.479227 & 0.318779 & 0.877339 & 0.639738 & $\\dots$ \\\\\n",
       "\t4 & 0.676399 & 0.847578 & 0.257867 & 0.102486 & 0.12445 & 0.68608 & 0.62904 & 0.892083 & 0.781573 & 0.430657 & 0.165216 & 0.506197 & 0.474381 & 0.0733915 & 0.858714 & 0.135377 & 0.507094 & 0.785477 & $\\dots$ \\\\\n",
       "\t5 & 0.37018 & 0.101379 & 0.854337 & 0.880262 & 0.848782 & 0.613272 & 0.117048 & 0.817252 & 0.313958 & 0.481686 & 0.355854 & 0.142603 & 0.234358 & 0.147062 & 0.533623 & 0.863244 & 0.483846 & 0.92905 & $\\dots$ \\\\\n",
       "\t6 & 0.232969 & 0.332381 & 0.78382 & 0.0429327 & 0.850875 & 0.539418 & 0.000194967 & 0.178391 & 0.923166 & 0.700625 & 0.623579 & 0.640277 & 0.325739 & 0.119281 & 0.147915 & 0.230693 & 0.896051 & 0.818241 & $\\dots$ \\\\\n",
       "\t7 & 0.432675 & 0.166874 & 0.637324 & 0.405522 & 0.878704 & 0.505487 & 0.731529 & 0.643839 & 0.253458 & 0.481024 & 0.27002 & 0.274179 & 0.818023 & 0.56566 & 0.438065 & 0.229276 & 0.431989 & 0.242784 & $\\dots$ \\\\\n",
       "\t8 & 0.806937 & 0.629779 & 0.0853888 & 0.939315 & 0.436427 & 0.738708 & 0.977319 & 0.495783 & 0.471718 & 0.676387 & 0.205386 & 0.405248 & 0.87975 & 0.643365 & 0.217949 & 0.62858 & 0.519742 & 0.35865 & $\\dots$ \\\\\n",
       "\t9 & 0.472709 & 0.288684 & 0.837002 & 0.889839 & 0.814862 & 0.0936993 & 0.452114 & 0.561233 & 0.886545 & 0.89729 & 0.642871 & 0.0617087 & 0.00580565 & 0.523122 & 0.113439 & 0.624716 & 0.578702 & 0.302118 & $\\dots$ \\\\\n",
       "\t10 & 0.254605 & 0.0938204 & 0.710157 & 0.947572 & 0.41528 & 0.814393 & 0.555249 & 0.355161 & 0.808005 & 0.29645 & 0.61728 & 0.0589249 & 0.1176 & 0.393081 & 0.130595 & 0.142441 & 0.0797183 & 0.242608 & $\\dots$ \\\\\n",
       "\t11 & 0.416157 & 0.765205 & 0.7582 & 0.481916 & 0.911273 & 0.788528 & 0.407249 & 0.468507 & 0.122979 & 0.0308429 & 0.345862 & 0.740037 & 0.120393 & 0.407799 & 0.547078 & 0.0111255 & 0.923068 & 0.257181 & $\\dots$ \\\\\n",
       "\t12 & 0.973424 & 0.354805 & 0.574562 & 0.79613 & 0.528279 & 0.337961 & 0.76578 & 0.960514 & 0.328026 & 0.9571 & 0.992648 & 0.709295 & 0.0628798 & 0.906015 & 0.303889 & 0.114287 & 0.158817 & 0.20643 & $\\dots$ \\\\\n",
       "\t13 & 0.44799 & 0.503359 & 0.719398 & 0.287602 & 0.765496 & 0.402826 & 0.603597 & 0.622229 & 0.866316 & 0.724606 & 0.657252 & 0.371267 & 0.0353759 & 0.223278 & 0.742595 & 0.0190329 & 0.673567 & 0.147104 & $\\dots$ \\\\\n",
       "\t14 & 0.606866 & 0.329146 & 0.598404 & 0.0724286 & 0.913742 & 0.804762 & 0.45117 & 0.320534 & 0.131442 & 0.139999 & 0.178219 & 0.978282 & 0.777437 & 0.181618 & 0.268516 & 0.401718 & 0.0587458 & 0.899202 & $\\dots$ \\\\\n",
       "\t15 & 0.998816 & 0.784934 & 0.712012 & 0.891144 & 0.887519 & 0.887852 & 0.261963 & 0.715893 & 0.572899 & 0.292069 & 0.264581 & 0.495618 & 0.247445 & 0.792316 & 0.117373 & 0.31493 & 0.51308 & 0.0412688 & $\\dots$ \\\\\n",
       "\t16 & 0.10004 & 0.790209 & 0.903976 & 0.2417 & 0.0369944 & 0.384263 & 0.0610109 & 0.0822801 & 0.518761 & 0.163173 & 0.620518 & 0.399465 & 0.417046 & 0.394126 & 0.90944 & 0.642788 & 0.743254 & 0.0726407 & $\\dots$ \\\\\n",
       "\t17 & 0.811174 & 0.930114 & 0.674815 & 0.574118 & 0.16497 & 0.668715 & 0.775797 & 0.290974 & 0.331879 & 0.0578237 & 0.864998 & 0.221327 & 0.822081 & 0.832337 & 0.650177 & 0.455931 & 0.11101 & 0.286827 & $\\dots$ \\\\\n",
       "\t18 & 0.376574 & 0.253162 & 0.989481 & 0.417934 & 0.382989 & 0.0145986 & 0.670837 & 0.554227 & 0.825367 & 0.654507 & 0.677225 & 0.444551 & 0.259486 & 0.225206 & 0.710308 & 0.947794 & 0.656049 & 0.317714 & $\\dots$ \\\\\n",
       "\t19 & 0.596911 & 0.468399 & 0.19144 & 0.706054 & 0.901398 & 0.926052 & 0.579245 & 0.961618 & 0.870115 & 0.171237 & 0.325738 & 0.274563 & 0.330477 & 0.213104 & 0.973826 & 0.77425 & 0.346371 & 0.653922 & $\\dots$ \\\\\n",
       "\t20 & 0.13821 & 0.947414 & 0.981801 & 0.850708 & 0.633985 & 0.54286 & 0.505739 & 0.344459 & 0.0998274 & 0.415358 & 0.157789 & 0.57172 & 0.623374 & 0.574794 & 0.719108 & 0.0502714 & 0.792293 & 0.215517 & $\\dots$ \\\\\n",
       "\t21 & 0.339459 & 0.729134 & 0.875327 & 0.574672 & 0.051323 & 0.0552795 & 0.16456 & 0.291464 & 0.4651 & 0.0706782 & 0.0521499 & 0.841877 & 0.189593 & 0.638494 & 0.643153 & 0.511072 & 0.789336 & 0.0832936 & $\\dots$ \\\\\n",
       "\t22 & 0.895358 & 0.603476 & 0.0115765 & 0.587752 & 0.206596 & 0.424714 & 0.199726 & 0.946425 & 0.731449 & 0.2863 & 0.573164 & 0.183032 & 0.503628 & 0.467365 & 0.605166 & 0.392998 & 0.262194 & 0.537604 & $\\dots$ \\\\\n",
       "\t23 & 0.526093 & 0.166804 & 0.116049 & 0.846126 & 0.593467 & 0.775411 & 0.25288 & 0.00698633 & 0.335163 & 0.982051 & 0.90453 & 0.929488 & 0.08494 & 0.887293 & 0.625058 & 0.148857 & 0.609282 & 0.171176 & $\\dots$ \\\\\n",
       "\t24 & 0.186497 & 0.334441 & 0.572789 & 0.138462 & 0.9635 & 0.843481 & 0.652468 & 0.771016 & 0.348222 & 0.806159 & 0.91552 & 0.194489 & 0.151596 & 0.971041 & 0.902016 & 0.468121 & 0.13177 & 0.0500914 & $\\dots$ \\\\\n",
       "\t25 & 0.640224 & 0.884959 & 0.527783 & 0.778593 & 0.11694 & 0.18067 & 0.077842 & 0.60556 & 0.0556549 & 0.624016 & 0.646965 & 0.785476 & 0.355835 & 0.460485 & 0.121149 & 0.544575 & 0.0139631 & 0.96475 & $\\dots$ \\\\\n",
       "\t26 & 0.783573 & 0.252141 & 0.998325 & 0.473461 & 0.237072 & 0.31733 & 0.862929 & 0.0308534 & 0.424444 & 0.903104 & 0.312939 & 0.443258 & 0.602381 & 0.829934 & 0.640628 & 0.870003 & 0.865747 & 0.785227 & $\\dots$ \\\\\n",
       "\t27 & 0.506488 & 0.357337 & 0.244599 & 0.133166 & 0.511189 & 0.896837 & 0.170752 & 0.679381 & 0.335176 & 0.870422 & 0.548232 & 0.0112489 & 0.180657 & 0.225945 & 0.932809 & 0.706212 & 0.65338 & 0.836574 & $\\dots$ \\\\\n",
       "\t28 & 0.275901 & 0.339588 & 0.104024 & 0.505626 & 0.747147 & 0.549658 & 0.586246 & 0.838082 & 0.233815 & 0.648315 & 0.176148 & 0.621518 & 0.834586 & 0.647831 & 0.242246 & 0.915032 & 0.377372 & 0.0987644 & $\\dots$ \\\\\n",
       "\t29 & 0.930521 & 0.957795 & 0.397251 & 0.537883 & 0.795843 & 0.603764 & 0.919534 & 0.345545 & 0.108315 & 0.763646 & 0.685173 & 0.435075 & 0.598447 & 0.864442 & 0.619509 & 0.402293 & 0.470558 & 0.590311 & $\\dots$ \\\\\n",
       "\t30 & 0.546738 & 0.777806 & 0.0507999 & 0.819853 & 0.25449 & 0.790963 & 0.762888 & 0.796993 & 0.621704 & 0.358672 & 0.647678 & 0.523739 & 0.111118 & 0.344574 & 0.826954 & 0.607786 & 0.556459 & 0.174272 & $\\dots$ \\\\\n",
       "\t$\\dots$ & $\\dots$ & $\\dots$ & $\\dots$ & $\\dots$ & $\\dots$ & $\\dots$ & $\\dots$ & $\\dots$ & $\\dots$ & $\\dots$ & $\\dots$ & $\\dots$ & $\\dots$ & $\\dots$ & $\\dots$ & $\\dots$ & $\\dots$ & $\\dots$ &  \\\\\n",
       "\\end{tabular}\n"
      ],
      "text/plain": [
       "\u001b[1m100×100 DataFrame\u001b[0m\n",
       "\u001b[1m Row \u001b[0m│\u001b[1m x1         \u001b[0m\u001b[1m x2         \u001b[0m\u001b[1m x3        \u001b[0m\u001b[1m x4         \u001b[0m\u001b[1m x5        \u001b[0m\u001b[1m x6        \u001b[0m\u001b[1m x7          \u001b[0m\u001b[1m x8        \u001b[0m\u001b[1m x9        \u001b[0m\u001b[1m x10       \u001b[0m\u001b[1m x11       \u001b[0m\u001b[1m x12       \u001b[0m\u001b[1m x13        \u001b[0m\u001b[1m x14       \u001b[0m\u001b[1m x15      \u001b[0m\u001b[1m x16       \u001b[0m\u001b[1m x17       \u001b[0m ⋯\n",
       "\u001b[1m     \u001b[0m│\u001b[90m Float64    \u001b[0m\u001b[90m Float64    \u001b[0m\u001b[90m Float64   \u001b[0m\u001b[90m Float64    \u001b[0m\u001b[90m Float64   \u001b[0m\u001b[90m Float64   \u001b[0m\u001b[90m Float64     \u001b[0m\u001b[90m Float64   \u001b[0m\u001b[90m Float64   \u001b[0m\u001b[90m Float64   \u001b[0m\u001b[90m Float64   \u001b[0m\u001b[90m Float64   \u001b[0m\u001b[90m Float64    \u001b[0m\u001b[90m Float64   \u001b[0m\u001b[90m Float64  \u001b[0m\u001b[90m Float64   \u001b[0m\u001b[90m Float64   \u001b[0m ⋯\n",
       "─────┼──────────────────────────────────────────────────────────────────────────────────────────────────────────────────────────────────────────────────────────────────────────────────────────────────\n",
       "   1 │ 0.560112    0.34785     0.46048    0.272047    0.434666   0.523006   0.366765     0.692849   0.0182276  0.56787    0.126195   0.836707   0.502718    0.197715   0.863796  0.42712    0.483491   ⋯\n",
       "   2 │ 0.101218    0.831049    0.939589   0.00836025  0.333759   0.465561   0.850519     0.258855   0.828379   0.813645   0.430874   0.255625   0.671253    0.993977   0.139012  0.407517   0.68229\n",
       "   3 │ 0.794444    0.816548    0.402866   0.241552    0.379048   0.508312   0.221634     0.491104   0.521677   0.706617   0.465464   0.0365372  0.552099    0.925934   0.479227  0.318779   0.877339\n",
       "   4 │ 0.676399    0.847578    0.257867   0.102486    0.12445    0.68608    0.62904      0.892083   0.781573   0.430657   0.165216   0.506197   0.474381    0.0733915  0.858714  0.135377   0.507094\n",
       "   5 │ 0.37018     0.101379    0.854337   0.880262    0.848782   0.613272   0.117048     0.817252   0.313958   0.481686   0.355854   0.142603   0.234358    0.147062   0.533623  0.863244   0.483846   ⋯\n",
       "   6 │ 0.232969    0.332381    0.78382    0.0429327   0.850875   0.539418   0.000194967  0.178391   0.923166   0.700625   0.623579   0.640277   0.325739    0.119281   0.147915  0.230693   0.896051\n",
       "   7 │ 0.432675    0.166874    0.637324   0.405522    0.878704   0.505487   0.731529     0.643839   0.253458   0.481024   0.27002    0.274179   0.818023    0.56566    0.438065  0.229276   0.431989\n",
       "   8 │ 0.806937    0.629779    0.0853888  0.939315    0.436427   0.738708   0.977319     0.495783   0.471718   0.676387   0.205386   0.405248   0.87975     0.643365   0.217949  0.62858    0.519742\n",
       "   9 │ 0.472709    0.288684    0.837002   0.889839    0.814862   0.0936993  0.452114     0.561233   0.886545   0.89729    0.642871   0.0617087  0.00580565  0.523122   0.113439  0.624716   0.578702   ⋯\n",
       "  10 │ 0.254605    0.0938204   0.710157   0.947572    0.41528    0.814393   0.555249     0.355161   0.808005   0.29645    0.61728    0.0589249  0.1176      0.393081   0.130595  0.142441   0.0797183\n",
       "  11 │ 0.416157    0.765205    0.7582     0.481916    0.911273   0.788528   0.407249     0.468507   0.122979   0.0308429  0.345862   0.740037   0.120393    0.407799   0.547078  0.0111255  0.923068\n",
       "  ⋮  │     ⋮           ⋮           ⋮          ⋮           ⋮          ⋮           ⋮           ⋮          ⋮          ⋮          ⋮          ⋮          ⋮           ⋮         ⋮          ⋮          ⋮      ⋱\n",
       "  91 │ 0.512182    0.992866    0.364812   0.084135    0.51199    0.359929   0.851467     0.364715   0.764475   0.409499   0.313494   0.41019    0.85097     0.319719   0.434537  0.576741   0.931247\n",
       "  92 │ 0.683177    0.0146854   0.818496   0.32655     0.360334   0.507197   0.183016     0.156682   0.927378   0.13994    0.0970283  0.0600163  0.0443243   0.969299   0.408855  0.2446     0.00310919 ⋯\n",
       "  93 │ 0.71673     0.941379    0.0946148  0.0657913   0.656484   0.21115    0.108018     0.300635   0.885722   0.516747   0.149661   0.378066   0.824153    0.399363   0.30939   0.307266   0.0973856\n",
       "  94 │ 0.776465    0.633243    0.615386   0.732313    0.835552   0.379881   0.975276     0.0166727  0.446107   0.403339   0.168813   0.715553   0.118151    0.732859   0.198824  0.163185   0.676192\n",
       "  95 │ 0.984379    0.159505    0.450281   0.589416    0.514744   0.241861   0.057675     0.768009   0.721107   0.879426   0.915092   0.173621   0.515706    0.816785   0.668333  0.182742   0.745855\n",
       "  96 │ 0.334275    0.487421    0.579209   0.261679    0.707149   0.616476   0.38691      0.215362   0.515841   0.90459    0.185504   0.106979   0.945703    0.815767   0.309529  0.803926   0.171117   ⋯\n",
       "  97 │ 0.043884    0.737181    0.985285   0.922533    0.79252    0.0667504  0.828771     0.236156   0.75494    0.642112   0.168153   0.387572   0.886104    0.295211   0.831032  0.56351    0.904882\n",
       "  98 │ 0.719993    0.520316    0.416204   0.361477    0.165032   0.362784   0.127787     0.75835    0.618725   0.882383   0.891558   0.0837106  0.717938    0.100148   0.875969  0.430826   0.149663\n",
       "  99 │ 0.0864742   0.270182    0.294395   0.912351    0.769599   0.172604   0.839576     0.275228   0.791563   0.559857   0.419836   0.898785   0.531712    0.55948    0.835223  0.860723   0.41586\n",
       " 100 │ 0.298103    0.00973089  0.560073   0.135674    0.79431    0.638855   0.64627      0.780061   0.36885    0.57708    0.788065   0.805903   0.240728    0.0996012  0.312089  0.671352   0.985765   ⋯\n",
       "\u001b[36m                                                                                                                                                                          83 columns and 79 rows omitted\u001b[0m"
      ]
     },
     "execution_count": 5,
     "metadata": {},
     "output_type": "execute_result"
    }
   ],
   "source": [
    "df = DataFrame(rand(100, 100), :auto)"
   ]
  },
  {
   "cell_type": "markdown",
   "metadata": {},
   "source": [
    "we can see that 92 of its columns were not printed. Also we get its first 30 rows. You can easily change this behavior by changing the value of `ENV[\"LINES\"]` and `ENV[\"COLUMNS\"]`."
   ]
  },
  {
   "cell_type": "code",
   "execution_count": 6,
   "metadata": {},
   "outputs": [
    {
     "data": {
      "text/plain": [
       "10"
      ]
     },
     "execution_count": 6,
     "metadata": {},
     "output_type": "execute_result"
    }
   ],
   "source": [
    "ENV[\"LINES\"] = 10"
   ]
  },
  {
   "cell_type": "code",
   "execution_count": 7,
   "metadata": {},
   "outputs": [
    {
     "data": {
      "text/plain": [
       "200"
      ]
     },
     "execution_count": 7,
     "metadata": {},
     "output_type": "execute_result"
    }
   ],
   "source": [
    "ENV[\"COLUMNS\"] = 200"
   ]
  },
  {
   "cell_type": "code",
   "execution_count": 8,
   "metadata": {},
   "outputs": [
    {
     "data": {
      "text/html": [
       "<table class=\"data-frame\"><thead><tr><th></th><th>x1</th><th>x2</th><th>x3</th><th>x4</th><th>x5</th><th>x6</th><th>x7</th><th>x8</th><th>x9</th><th>x10</th><th>x11</th><th>x12</th><th>x13</th><th>x14</th><th>x15</th><th>x16</th><th>x17</th><th>x18</th><th>x19</th></tr><tr><th></th><th>Float64</th><th>Float64</th><th>Float64</th><th>Float64</th><th>Float64</th><th>Float64</th><th>Float64</th><th>Float64</th><th>Float64</th><th>Float64</th><th>Float64</th><th>Float64</th><th>Float64</th><th>Float64</th><th>Float64</th><th>Float64</th><th>Float64</th><th>Float64</th><th>Float64</th></tr></thead><tbody><p>100 rows × 100 columns (omitted printing of 81 columns)</p><tr><th>1</th><td>0.560112</td><td>0.34785</td><td>0.46048</td><td>0.272047</td><td>0.434666</td><td>0.523006</td><td>0.366765</td><td>0.692849</td><td>0.0182276</td><td>0.56787</td><td>0.126195</td><td>0.836707</td><td>0.502718</td><td>0.197715</td><td>0.863796</td><td>0.42712</td><td>0.483491</td><td>0.575213</td><td>0.246463</td></tr><tr><th>2</th><td>0.101218</td><td>0.831049</td><td>0.939589</td><td>0.00836025</td><td>0.333759</td><td>0.465561</td><td>0.850519</td><td>0.258855</td><td>0.828379</td><td>0.813645</td><td>0.430874</td><td>0.255625</td><td>0.671253</td><td>0.993977</td><td>0.139012</td><td>0.407517</td><td>0.68229</td><td>0.128172</td><td>0.342181</td></tr><tr><th>3</th><td>0.794444</td><td>0.816548</td><td>0.402866</td><td>0.241552</td><td>0.379048</td><td>0.508312</td><td>0.221634</td><td>0.491104</td><td>0.521677</td><td>0.706617</td><td>0.465464</td><td>0.0365372</td><td>0.552099</td><td>0.925934</td><td>0.479227</td><td>0.318779</td><td>0.877339</td><td>0.639738</td><td>0.0232351</td></tr><tr><th>4</th><td>0.676399</td><td>0.847578</td><td>0.257867</td><td>0.102486</td><td>0.12445</td><td>0.68608</td><td>0.62904</td><td>0.892083</td><td>0.781573</td><td>0.430657</td><td>0.165216</td><td>0.506197</td><td>0.474381</td><td>0.0733915</td><td>0.858714</td><td>0.135377</td><td>0.507094</td><td>0.785477</td><td>0.911564</td></tr><tr><th>5</th><td>0.37018</td><td>0.101379</td><td>0.854337</td><td>0.880262</td><td>0.848782</td><td>0.613272</td><td>0.117048</td><td>0.817252</td><td>0.313958</td><td>0.481686</td><td>0.355854</td><td>0.142603</td><td>0.234358</td><td>0.147062</td><td>0.533623</td><td>0.863244</td><td>0.483846</td><td>0.92905</td><td>0.322266</td></tr><tr><th>6</th><td>0.232969</td><td>0.332381</td><td>0.78382</td><td>0.0429327</td><td>0.850875</td><td>0.539418</td><td>0.000194967</td><td>0.178391</td><td>0.923166</td><td>0.700625</td><td>0.623579</td><td>0.640277</td><td>0.325739</td><td>0.119281</td><td>0.147915</td><td>0.230693</td><td>0.896051</td><td>0.818241</td><td>0.516277</td></tr><tr><th>7</th><td>0.432675</td><td>0.166874</td><td>0.637324</td><td>0.405522</td><td>0.878704</td><td>0.505487</td><td>0.731529</td><td>0.643839</td><td>0.253458</td><td>0.481024</td><td>0.27002</td><td>0.274179</td><td>0.818023</td><td>0.56566</td><td>0.438065</td><td>0.229276</td><td>0.431989</td><td>0.242784</td><td>0.0653489</td></tr><tr><th>8</th><td>0.806937</td><td>0.629779</td><td>0.0853888</td><td>0.939315</td><td>0.436427</td><td>0.738708</td><td>0.977319</td><td>0.495783</td><td>0.471718</td><td>0.676387</td><td>0.205386</td><td>0.405248</td><td>0.87975</td><td>0.643365</td><td>0.217949</td><td>0.62858</td><td>0.519742</td><td>0.35865</td><td>0.468192</td></tr><tr><th>9</th><td>0.472709</td><td>0.288684</td><td>0.837002</td><td>0.889839</td><td>0.814862</td><td>0.0936993</td><td>0.452114</td><td>0.561233</td><td>0.886545</td><td>0.89729</td><td>0.642871</td><td>0.0617087</td><td>0.00580565</td><td>0.523122</td><td>0.113439</td><td>0.624716</td><td>0.578702</td><td>0.302118</td><td>0.410713</td></tr><tr><th>10</th><td>0.254605</td><td>0.0938204</td><td>0.710157</td><td>0.947572</td><td>0.41528</td><td>0.814393</td><td>0.555249</td><td>0.355161</td><td>0.808005</td><td>0.29645</td><td>0.61728</td><td>0.0589249</td><td>0.1176</td><td>0.393081</td><td>0.130595</td><td>0.142441</td><td>0.0797183</td><td>0.242608</td><td>0.0733203</td></tr><tr><th>&vellip;</th><td>&vellip;</td><td>&vellip;</td><td>&vellip;</td><td>&vellip;</td><td>&vellip;</td><td>&vellip;</td><td>&vellip;</td><td>&vellip;</td><td>&vellip;</td><td>&vellip;</td><td>&vellip;</td><td>&vellip;</td><td>&vellip;</td><td>&vellip;</td><td>&vellip;</td><td>&vellip;</td><td>&vellip;</td><td>&vellip;</td><td>&vellip;</td></tr></tbody></table>"
      ],
      "text/latex": [
       "\\begin{tabular}{r|cccccccccccccccccccc}\n",
       "\t& x1 & x2 & x3 & x4 & x5 & x6 & x7 & x8 & x9 & x10 & x11 & x12 & x13 & x14 & x15 & x16 & x17 & x18 & x19 & \\\\\n",
       "\t\\hline\n",
       "\t& Float64 & Float64 & Float64 & Float64 & Float64 & Float64 & Float64 & Float64 & Float64 & Float64 & Float64 & Float64 & Float64 & Float64 & Float64 & Float64 & Float64 & Float64 & Float64 & \\\\\n",
       "\t\\hline\n",
       "\t1 & 0.560112 & 0.34785 & 0.46048 & 0.272047 & 0.434666 & 0.523006 & 0.366765 & 0.692849 & 0.0182276 & 0.56787 & 0.126195 & 0.836707 & 0.502718 & 0.197715 & 0.863796 & 0.42712 & 0.483491 & 0.575213 & 0.246463 & $\\dots$ \\\\\n",
       "\t2 & 0.101218 & 0.831049 & 0.939589 & 0.00836025 & 0.333759 & 0.465561 & 0.850519 & 0.258855 & 0.828379 & 0.813645 & 0.430874 & 0.255625 & 0.671253 & 0.993977 & 0.139012 & 0.407517 & 0.68229 & 0.128172 & 0.342181 & $\\dots$ \\\\\n",
       "\t3 & 0.794444 & 0.816548 & 0.402866 & 0.241552 & 0.379048 & 0.508312 & 0.221634 & 0.491104 & 0.521677 & 0.706617 & 0.465464 & 0.0365372 & 0.552099 & 0.925934 & 0.479227 & 0.318779 & 0.877339 & 0.639738 & 0.0232351 & $\\dots$ \\\\\n",
       "\t4 & 0.676399 & 0.847578 & 0.257867 & 0.102486 & 0.12445 & 0.68608 & 0.62904 & 0.892083 & 0.781573 & 0.430657 & 0.165216 & 0.506197 & 0.474381 & 0.0733915 & 0.858714 & 0.135377 & 0.507094 & 0.785477 & 0.911564 & $\\dots$ \\\\\n",
       "\t5 & 0.37018 & 0.101379 & 0.854337 & 0.880262 & 0.848782 & 0.613272 & 0.117048 & 0.817252 & 0.313958 & 0.481686 & 0.355854 & 0.142603 & 0.234358 & 0.147062 & 0.533623 & 0.863244 & 0.483846 & 0.92905 & 0.322266 & $\\dots$ \\\\\n",
       "\t6 & 0.232969 & 0.332381 & 0.78382 & 0.0429327 & 0.850875 & 0.539418 & 0.000194967 & 0.178391 & 0.923166 & 0.700625 & 0.623579 & 0.640277 & 0.325739 & 0.119281 & 0.147915 & 0.230693 & 0.896051 & 0.818241 & 0.516277 & $\\dots$ \\\\\n",
       "\t7 & 0.432675 & 0.166874 & 0.637324 & 0.405522 & 0.878704 & 0.505487 & 0.731529 & 0.643839 & 0.253458 & 0.481024 & 0.27002 & 0.274179 & 0.818023 & 0.56566 & 0.438065 & 0.229276 & 0.431989 & 0.242784 & 0.0653489 & $\\dots$ \\\\\n",
       "\t8 & 0.806937 & 0.629779 & 0.0853888 & 0.939315 & 0.436427 & 0.738708 & 0.977319 & 0.495783 & 0.471718 & 0.676387 & 0.205386 & 0.405248 & 0.87975 & 0.643365 & 0.217949 & 0.62858 & 0.519742 & 0.35865 & 0.468192 & $\\dots$ \\\\\n",
       "\t9 & 0.472709 & 0.288684 & 0.837002 & 0.889839 & 0.814862 & 0.0936993 & 0.452114 & 0.561233 & 0.886545 & 0.89729 & 0.642871 & 0.0617087 & 0.00580565 & 0.523122 & 0.113439 & 0.624716 & 0.578702 & 0.302118 & 0.410713 & $\\dots$ \\\\\n",
       "\t10 & 0.254605 & 0.0938204 & 0.710157 & 0.947572 & 0.41528 & 0.814393 & 0.555249 & 0.355161 & 0.808005 & 0.29645 & 0.61728 & 0.0589249 & 0.1176 & 0.393081 & 0.130595 & 0.142441 & 0.0797183 & 0.242608 & 0.0733203 & $\\dots$ \\\\\n",
       "\t$\\dots$ & $\\dots$ & $\\dots$ & $\\dots$ & $\\dots$ & $\\dots$ & $\\dots$ & $\\dots$ & $\\dots$ & $\\dots$ & $\\dots$ & $\\dots$ & $\\dots$ & $\\dots$ & $\\dots$ & $\\dots$ & $\\dots$ & $\\dots$ & $\\dots$ & $\\dots$ &  \\\\\n",
       "\\end{tabular}\n"
      ],
      "text/plain": [
       "\u001b[1m100×100 DataFrame\u001b[0m\n",
       "\u001b[1m Row \u001b[0m│\u001b[1m x1        \u001b[0m\u001b[1m x2         \u001b[0m\u001b[1m x3       \u001b[0m\u001b[1m x4         \u001b[0m\u001b[1m x5       \u001b[0m\u001b[1m x6        \u001b[0m\u001b[1m x7       \u001b[0m\u001b[1m x8       \u001b[0m\u001b[1m x9        \u001b[0m\u001b[1m x10      \u001b[0m\u001b[1m x11      \u001b[0m\u001b[1m x12       \u001b[0m\u001b[1m x13      \u001b[0m\u001b[1m x14       \u001b[0m\u001b[1m x15      \u001b[0m\u001b[1m x16      \u001b[0m\u001b[1m x17      \u001b[0m\u001b[1m x18      \u001b[0m\u001b[1m x1\u001b[0m ⋯\n",
       "\u001b[1m     \u001b[0m│\u001b[90m Float64   \u001b[0m\u001b[90m Float64    \u001b[0m\u001b[90m Float64  \u001b[0m\u001b[90m Float64    \u001b[0m\u001b[90m Float64  \u001b[0m\u001b[90m Float64   \u001b[0m\u001b[90m Float64  \u001b[0m\u001b[90m Float64  \u001b[0m\u001b[90m Float64   \u001b[0m\u001b[90m Float64  \u001b[0m\u001b[90m Float64  \u001b[0m\u001b[90m Float64   \u001b[0m\u001b[90m Float64  \u001b[0m\u001b[90m Float64   \u001b[0m\u001b[90m Float64  \u001b[0m\u001b[90m Float64  \u001b[0m\u001b[90m Float64  \u001b[0m\u001b[90m Float64  \u001b[0m\u001b[90m Fl\u001b[0m ⋯\n",
       "─────┼──────────────────────────────────────────────────────────────────────────────────────────────────────────────────────────────────────────────────────────────────────────────────────────────────\n",
       "   1 │ 0.560112   0.34785     0.46048   0.272047    0.434666  0.523006   0.366765  0.692849  0.0182276  0.56787   0.126195  0.836707   0.502718  0.197715   0.863796  0.42712   0.483491  0.575213  0. ⋯\n",
       "  ⋮  │     ⋮          ⋮          ⋮          ⋮          ⋮          ⋮         ⋮         ⋮          ⋮         ⋮         ⋮          ⋮         ⋮          ⋮         ⋮         ⋮         ⋮         ⋮         ⋱\n",
       "\u001b[36m                                                                                                                                                                          82 columns and 99 rows omitted\u001b[0m"
      ]
     },
     "execution_count": 8,
     "metadata": {},
     "output_type": "execute_result"
    }
   ],
   "source": [
    "df"
   ]
  },
  {
   "cell_type": "markdown",
   "metadata": {},
   "source": [
    "### Most elementary get and set operations\n",
    "\n",
    "Given the `DataFrame` `x` we have created earlier, here are various ways to grab one of its columns as a `Vector`."
   ]
  },
  {
   "cell_type": "code",
   "execution_count": 11,
   "metadata": {},
   "outputs": [
    {
     "data": {
      "text/html": [
       "<table class=\"data-frame\"><thead><tr><th></th><th>A</th><th>B</th><th>C</th></tr><tr><th></th><th>Int64</th><th>Float64?</th><th>String</th></tr></thead><tbody><p>2 rows × 3 columns</p><tr><th>1</th><td>1</td><td>1.0</td><td>a</td></tr><tr><th>2</th><td>2</td><td><em>missing</em></td><td>b</td></tr></tbody></table>"
      ],
      "text/latex": [
       "\\begin{tabular}{r|ccc}\n",
       "\t& A & B & C\\\\\n",
       "\t\\hline\n",
       "\t& Int64 & Float64? & String\\\\\n",
       "\t\\hline\n",
       "\t1 & 1 & 1.0 & a \\\\\n",
       "\t2 & 2 & \\emph{missing} & b \\\\\n",
       "\\end{tabular}\n"
      ],
      "text/plain": [
       "\u001b[1m2×3 DataFrame\u001b[0m\n",
       "\u001b[1m Row \u001b[0m│\u001b[1m A     \u001b[0m\u001b[1m B         \u001b[0m\u001b[1m C      \u001b[0m\n",
       "\u001b[1m     \u001b[0m│\u001b[90m Int64 \u001b[0m\u001b[90m Float64?  \u001b[0m\u001b[90m String \u001b[0m\n",
       "─────┼──────────────────────────\n",
       "   1 │     1        1.0  a\n",
       "   2 │     2 \u001b[90m missing   \u001b[0m b"
      ]
     },
     "execution_count": 11,
     "metadata": {},
     "output_type": "execute_result"
    }
   ],
   "source": [
    "x"
   ]
  },
  {
   "cell_type": "code",
   "execution_count": 21,
   "metadata": {},
   "outputs": [
    {
     "data": {
      "text/plain": [
       "([1, 2], [1, 2], [1, 2])"
      ]
     },
     "execution_count": 21,
     "metadata": {},
     "output_type": "execute_result"
    }
   ],
   "source": [
    "x.A, x[!, 1], x[!, :A] # all get the vector stored in our DataFrame without copying it"
   ]
  },
  {
   "cell_type": "code",
   "execution_count": 14,
   "metadata": {},
   "outputs": [
    {
     "data": {
      "text/plain": [
       "2-element Vector{Int64}:\n",
       " 1\n",
       " 2"
      ]
     },
     "execution_count": 14,
     "metadata": {},
     "output_type": "execute_result"
    }
   ],
   "source": [
    "x.A # Obtener A de X"
   ]
  },
  {
   "cell_type": "code",
   "execution_count": 18,
   "metadata": {},
   "outputs": [
    {
     "data": {
      "text/plain": [
       "2-element Vector{Int64}:\n",
       " 1\n",
       " 2"
      ]
     },
     "execution_count": 18,
     "metadata": {},
     "output_type": "execute_result"
    }
   ],
   "source": [
    "x[!,1] # Obtener todos los elementos de la primera columna"
   ]
  },
  {
   "cell_type": "code",
   "execution_count": 20,
   "metadata": {},
   "outputs": [
    {
     "data": {
      "text/plain": [
       "2-element Vector{Int64}:\n",
       " 1\n",
       " 2"
      ]
     },
     "execution_count": 20,
     "metadata": {},
     "output_type": "execute_result"
    }
   ],
   "source": [
    "x[!,:A] # Obtener todos los elementos de A, usando el simbolo"
   ]
  },
  {
   "cell_type": "code",
   "execution_count": 21,
   "metadata": {},
   "outputs": [
    {
     "data": {
      "text/plain": [
       "([1, 2], [1, 2])"
      ]
     },
     "execution_count": 21,
     "metadata": {},
     "output_type": "execute_result"
    }
   ],
   "source": [
    "x.\"A\", x[!, \"A\"] # the same using string indexing"
   ]
  },
  {
   "cell_type": "code",
   "execution_count": 22,
   "metadata": {},
   "outputs": [
    {
     "data": {
      "text/plain": [
       "2-element Vector{Int64}:\n",
       " 1\n",
       " 2"
      ]
     },
     "execution_count": 22,
     "metadata": {},
     "output_type": "execute_result"
    }
   ],
   "source": [
    "x[:, 1] # note that this creates a copy"
   ]
  },
  {
   "cell_type": "code",
   "execution_count": 23,
   "metadata": {},
   "outputs": [
    {
     "data": {
      "text/plain": [
       "false"
      ]
     },
     "execution_count": 23,
     "metadata": {},
     "output_type": "execute_result"
    }
   ],
   "source": [
    "x[:, 1] === x[:, 1]"
   ]
  },
  {
   "cell_type": "markdown",
   "metadata": {},
   "source": [
    "To grab one row as a `DataFrame`, we can index as follows."
   ]
  },
  {
   "cell_type": "code",
   "execution_count": 24,
   "metadata": {},
   "outputs": [
    {
     "data": {
      "text/html": [
       "<table class=\"data-frame\"><thead><tr><th></th><th>A</th><th>B</th><th>C</th></tr><tr><th></th><th>Int64</th><th>Float64?</th><th>String</th></tr></thead><tbody><p>1 rows × 3 columns</p><tr><th>1</th><td>1</td><td>1.0</td><td>a</td></tr></tbody></table>"
      ],
      "text/latex": [
       "\\begin{tabular}{r|ccc}\n",
       "\t& A & B & C\\\\\n",
       "\t\\hline\n",
       "\t& Int64 & Float64? & String\\\\\n",
       "\t\\hline\n",
       "\t1 & 1 & 1.0 & a \\\\\n",
       "\\end{tabular}\n"
      ],
      "text/plain": [
       "\u001b[1m1×3 DataFrame\u001b[0m\n",
       "\u001b[1m Row \u001b[0m│\u001b[1m A     \u001b[0m\u001b[1m B        \u001b[0m\u001b[1m C      \u001b[0m\n",
       "\u001b[1m     \u001b[0m│\u001b[90m Int64 \u001b[0m\u001b[90m Float64? \u001b[0m\u001b[90m String \u001b[0m\n",
       "─────┼─────────────────────────\n",
       "   1 │     1       1.0  a"
      ]
     },
     "execution_count": 24,
     "metadata": {},
     "output_type": "execute_result"
    }
   ],
   "source": [
    "x[1:1, :]"
   ]
  },
  {
   "cell_type": "code",
   "execution_count": 25,
   "metadata": {},
   "outputs": [
    {
     "data": {
      "text/html": [
       "<p>DataFrameRow (3 columns)</p><table class=\"data-frame\"><thead><tr><th></th><th>A</th><th>B</th><th>C</th></tr><tr><th></th><th>Int64</th><th>Float64?</th><th>String</th></tr></thead><tbody><tr><th>1</th><td>1</td><td>1.0</td><td>a</td></tr></tbody></table>"
      ],
      "text/latex": [
       "\\begin{tabular}{r|ccc}\n",
       "\t& A & B & C\\\\\n",
       "\t\\hline\n",
       "\t& Int64 & Float64? & String\\\\\n",
       "\t\\hline\n",
       "\t1 & 1 & 1.0 & a \\\\\n",
       "\\end{tabular}\n"
      ],
      "text/plain": [
       "\u001b[1mDataFrameRow\u001b[0m\n",
       "\u001b[1m Row \u001b[0m│\u001b[1m A     \u001b[0m\u001b[1m B        \u001b[0m\u001b[1m C      \u001b[0m\n",
       "\u001b[1m     \u001b[0m│\u001b[90m Int64 \u001b[0m\u001b[90m Float64? \u001b[0m\u001b[90m String \u001b[0m\n",
       "─────┼─────────────────────────\n",
       "   1 │     1       1.0  a"
      ]
     },
     "execution_count": 25,
     "metadata": {},
     "output_type": "execute_result"
    }
   ],
   "source": [
    "x[1, :] # this produces a DataFrameRow which is treated as 1-dimensional object similar to a NamedTuple"
   ]
  },
  {
   "cell_type": "markdown",
   "metadata": {},
   "source": [
    "We can grab a single cell or element with the same syntax to grab an element of an array."
   ]
  },
  {
   "cell_type": "code",
   "execution_count": 27,
   "metadata": {},
   "outputs": [
    {
     "data": {
      "text/plain": [
       "1"
      ]
     },
     "execution_count": 27,
     "metadata": {},
     "output_type": "execute_result"
    }
   ],
   "source": [
    "x[1, 1]"
   ]
  },
  {
   "cell_type": "markdown",
   "metadata": {},
   "source": [
    "or a new `DataFrame` that is a subset of rows and columns"
   ]
  },
  {
   "cell_type": "code",
   "execution_count": 28,
   "metadata": {},
   "outputs": [
    {
     "data": {
      "text/html": [
       "<table class=\"data-frame\"><thead><tr><th></th><th>A</th><th>B</th></tr><tr><th></th><th>Int64</th><th>Float64?</th></tr></thead><tbody><p>2 rows × 2 columns</p><tr><th>1</th><td>1</td><td>1.0</td></tr><tr><th>2</th><td>2</td><td><em>missing</em></td></tr></tbody></table>"
      ],
      "text/latex": [
       "\\begin{tabular}{r|cc}\n",
       "\t& A & B\\\\\n",
       "\t\\hline\n",
       "\t& Int64 & Float64?\\\\\n",
       "\t\\hline\n",
       "\t1 & 1 & 1.0 \\\\\n",
       "\t2 & 2 & \\emph{missing} \\\\\n",
       "\\end{tabular}\n"
      ],
      "text/plain": [
       "\u001b[1m2×2 DataFrame\u001b[0m\n",
       "\u001b[1m Row \u001b[0m│\u001b[1m A     \u001b[0m\u001b[1m B         \u001b[0m\n",
       "\u001b[1m     \u001b[0m│\u001b[90m Int64 \u001b[0m\u001b[90m Float64?  \u001b[0m\n",
       "─────┼──────────────────\n",
       "   1 │     1        1.0\n",
       "   2 │     2 \u001b[90m missing   \u001b[0m"
      ]
     },
     "execution_count": 28,
     "metadata": {},
     "output_type": "execute_result"
    }
   ],
   "source": [
    "x[1:2, 1:2]"
   ]
  },
  {
   "cell_type": "markdown",
   "metadata": {},
   "source": [
    "You can also use `Regex` to select columns and `Not` from InvertedIndices.jl both to select rows and columns"
   ]
  },
  {
   "cell_type": "code",
   "execution_count": 29,
   "metadata": {},
   "outputs": [
    {
     "data": {
      "text/html": [
       "<table class=\"data-frame\"><thead><tr><th></th><th>A</th></tr><tr><th></th><th>Int64</th></tr></thead><tbody><p>1 rows × 1 columns</p><tr><th>1</th><td>2</td></tr></tbody></table>"
      ],
      "text/latex": [
       "\\begin{tabular}{r|c}\n",
       "\t& A\\\\\n",
       "\t\\hline\n",
       "\t& Int64\\\\\n",
       "\t\\hline\n",
       "\t1 & 2 \\\\\n",
       "\\end{tabular}\n"
      ],
      "text/plain": [
       "\u001b[1m1×1 DataFrame\u001b[0m\n",
       "\u001b[1m Row \u001b[0m│\u001b[1m A     \u001b[0m\n",
       "\u001b[1m     \u001b[0m│\u001b[90m Int64 \u001b[0m\n",
       "─────┼───────\n",
       "   1 │     2"
      ]
     },
     "execution_count": 29,
     "metadata": {},
     "output_type": "execute_result"
    }
   ],
   "source": [
    "x[Not(1), r\"A\"]"
   ]
  },
  {
   "cell_type": "code",
   "execution_count": 30,
   "metadata": {},
   "outputs": [
    {
     "data": {
      "text/html": [
       "<table class=\"data-frame\"><thead><tr><th></th><th>B</th><th>C</th></tr><tr><th></th><th>Float64?</th><th>String</th></tr></thead><tbody><p>2 rows × 2 columns</p><tr><th>1</th><td>1.0</td><td>a</td></tr><tr><th>2</th><td><em>missing</em></td><td>b</td></tr></tbody></table>"
      ],
      "text/latex": [
       "\\begin{tabular}{r|cc}\n",
       "\t& B & C\\\\\n",
       "\t\\hline\n",
       "\t& Float64? & String\\\\\n",
       "\t\\hline\n",
       "\t1 & 1.0 & a \\\\\n",
       "\t2 & \\emph{missing} & b \\\\\n",
       "\\end{tabular}\n"
      ],
      "text/plain": [
       "\u001b[1m2×2 DataFrame\u001b[0m\n",
       "\u001b[1m Row \u001b[0m│\u001b[1m B         \u001b[0m\u001b[1m C      \u001b[0m\n",
       "\u001b[1m     \u001b[0m│\u001b[90m Float64?  \u001b[0m\u001b[90m String \u001b[0m\n",
       "─────┼───────────────────\n",
       "   1 │       1.0  a\n",
       "   2 │\u001b[90m missing   \u001b[0m b"
      ]
     },
     "execution_count": 30,
     "metadata": {},
     "output_type": "execute_result"
    }
   ],
   "source": [
    "x[!, Not(1)] # ! indicates that underlying columns are not copied"
   ]
  },
  {
   "cell_type": "code",
   "execution_count": 31,
   "metadata": {},
   "outputs": [
    {
     "data": {
      "text/html": [
       "<table class=\"data-frame\"><thead><tr><th></th><th>B</th><th>C</th></tr><tr><th></th><th>Float64?</th><th>String</th></tr></thead><tbody><p>2 rows × 2 columns</p><tr><th>1</th><td>1.0</td><td>a</td></tr><tr><th>2</th><td><em>missing</em></td><td>b</td></tr></tbody></table>"
      ],
      "text/latex": [
       "\\begin{tabular}{r|cc}\n",
       "\t& B & C\\\\\n",
       "\t\\hline\n",
       "\t& Float64? & String\\\\\n",
       "\t\\hline\n",
       "\t1 & 1.0 & a \\\\\n",
       "\t2 & \\emph{missing} & b \\\\\n",
       "\\end{tabular}\n"
      ],
      "text/plain": [
       "\u001b[1m2×2 DataFrame\u001b[0m\n",
       "\u001b[1m Row \u001b[0m│\u001b[1m B         \u001b[0m\u001b[1m C      \u001b[0m\n",
       "\u001b[1m     \u001b[0m│\u001b[90m Float64?  \u001b[0m\u001b[90m String \u001b[0m\n",
       "─────┼───────────────────\n",
       "   1 │       1.0  a\n",
       "   2 │\u001b[90m missing   \u001b[0m b"
      ]
     },
     "execution_count": 31,
     "metadata": {},
     "output_type": "execute_result"
    }
   ],
   "source": [
    "x[:, Not(1)] # : means that the columns will get copied"
   ]
  },
  {
   "cell_type": "markdown",
   "metadata": {},
   "source": [
    "Assignment of a scalar to a data frame can be done in ranges using broadcasting:"
   ]
  },
  {
   "cell_type": "code",
   "execution_count": 32,
   "metadata": {},
   "outputs": [
    {
     "data": {
      "text/html": [
       "<table class=\"data-frame\"><thead><tr><th></th><th>A</th><th>B</th><th>C</th></tr><tr><th></th><th>Int64</th><th>Float64?</th><th>String</th></tr></thead><tbody><p>2 rows × 3 columns</p><tr><th>1</th><td>1</td><td>1.0</td><td>a</td></tr><tr><th>2</th><td>1</td><td>1.0</td><td>b</td></tr></tbody></table>"
      ],
      "text/latex": [
       "\\begin{tabular}{r|ccc}\n",
       "\t& A & B & C\\\\\n",
       "\t\\hline\n",
       "\t& Int64 & Float64? & String\\\\\n",
       "\t\\hline\n",
       "\t1 & 1 & 1.0 & a \\\\\n",
       "\t2 & 1 & 1.0 & b \\\\\n",
       "\\end{tabular}\n"
      ],
      "text/plain": [
       "\u001b[1m2×3 DataFrame\u001b[0m\n",
       "\u001b[1m Row \u001b[0m│\u001b[1m A     \u001b[0m\u001b[1m B        \u001b[0m\u001b[1m C      \u001b[0m\n",
       "\u001b[1m     \u001b[0m│\u001b[90m Int64 \u001b[0m\u001b[90m Float64? \u001b[0m\u001b[90m String \u001b[0m\n",
       "─────┼─────────────────────────\n",
       "   1 │     1       1.0  a\n",
       "   2 │     1       1.0  b"
      ]
     },
     "execution_count": 32,
     "metadata": {},
     "output_type": "execute_result"
    }
   ],
   "source": [
    "x[1:2, 1:2] .= 1\n",
    "x"
   ]
  },
  {
   "cell_type": "markdown",
   "metadata": {},
   "source": [
    "Assignment of a vector of length equal to the number of assigned rows using broadcasting"
   ]
  },
  {
   "cell_type": "code",
   "execution_count": 33,
   "metadata": {},
   "outputs": [
    {
     "data": {
      "text/html": [
       "<table class=\"data-frame\"><thead><tr><th></th><th>A</th><th>B</th><th>C</th></tr><tr><th></th><th>Int64</th><th>Float64?</th><th>String</th></tr></thead><tbody><p>2 rows × 3 columns</p><tr><th>1</th><td>1</td><td>1.0</td><td>a</td></tr><tr><th>2</th><td>2</td><td>2.0</td><td>b</td></tr></tbody></table>"
      ],
      "text/latex": [
       "\\begin{tabular}{r|ccc}\n",
       "\t& A & B & C\\\\\n",
       "\t\\hline\n",
       "\t& Int64 & Float64? & String\\\\\n",
       "\t\\hline\n",
       "\t1 & 1 & 1.0 & a \\\\\n",
       "\t2 & 2 & 2.0 & b \\\\\n",
       "\\end{tabular}\n"
      ],
      "text/plain": [
       "\u001b[1m2×3 DataFrame\u001b[0m\n",
       "\u001b[1m Row \u001b[0m│\u001b[1m A     \u001b[0m\u001b[1m B        \u001b[0m\u001b[1m C      \u001b[0m\n",
       "\u001b[1m     \u001b[0m│\u001b[90m Int64 \u001b[0m\u001b[90m Float64? \u001b[0m\u001b[90m String \u001b[0m\n",
       "─────┼─────────────────────────\n",
       "   1 │     1       1.0  a\n",
       "   2 │     2       2.0  b"
      ]
     },
     "execution_count": 33,
     "metadata": {},
     "output_type": "execute_result"
    }
   ],
   "source": [
    "x[1:2, 1:2] .= [1,2]\n",
    "x"
   ]
  },
  {
   "cell_type": "markdown",
   "metadata": {},
   "source": [
    "Assignment or of another data frame of matching size and column names, again using broadcasting:"
   ]
  },
  {
   "cell_type": "code",
   "execution_count": 34,
   "metadata": {},
   "outputs": [
    {
     "data": {
      "text/html": [
       "<table class=\"data-frame\"><thead><tr><th></th><th>A</th><th>B</th><th>C</th></tr><tr><th></th><th>Int64</th><th>Float64?</th><th>String</th></tr></thead><tbody><p>2 rows × 3 columns</p><tr><th>1</th><td>5</td><td>6.0</td><td>a</td></tr><tr><th>2</th><td>7</td><td>8.0</td><td>b</td></tr></tbody></table>"
      ],
      "text/latex": [
       "\\begin{tabular}{r|ccc}\n",
       "\t& A & B & C\\\\\n",
       "\t\\hline\n",
       "\t& Int64 & Float64? & String\\\\\n",
       "\t\\hline\n",
       "\t1 & 5 & 6.0 & a \\\\\n",
       "\t2 & 7 & 8.0 & b \\\\\n",
       "\\end{tabular}\n"
      ],
      "text/plain": [
       "\u001b[1m2×3 DataFrame\u001b[0m\n",
       "\u001b[1m Row \u001b[0m│\u001b[1m A     \u001b[0m\u001b[1m B        \u001b[0m\u001b[1m C      \u001b[0m\n",
       "\u001b[1m     \u001b[0m│\u001b[90m Int64 \u001b[0m\u001b[90m Float64? \u001b[0m\u001b[90m String \u001b[0m\n",
       "─────┼─────────────────────────\n",
       "   1 │     5       6.0  a\n",
       "   2 │     7       8.0  b"
      ]
     },
     "execution_count": 34,
     "metadata": {},
     "output_type": "execute_result"
    }
   ],
   "source": [
    "x[1:2, 1:2] .= DataFrame([5 6; 7 8], [:A, :B])\n",
    "x"
   ]
  },
  {
   "cell_type": "markdown",
   "metadata": {},
   "source": [
    "**Caution**\n",
    "\n",
    "With `df[!, :col]` and `df.col` syntax you get a direct (non copying) access to a column of a data frame.\n",
    "This is potentially unsafe as you can easily corrupt data in the `df` data frame if you resize, sort, etc. the column obtained in this way.\n",
    "Therefore such access should be used with caution.\n",
    "\n",
    "Similarly `df[!, cols]` when `cols` is a collection of columns produces a new data frame that holds the same (not copied) columns as the source `df` data frame. Similarly, modifying the data frame obtained via `df[!, cols]` might cause problems with the consistency of `df`.\n",
    "\n",
    "The `df[:, :col]` and `df[:, cols]` syntaxes always copy columns so they are safe to use (and should generally be preferred except for performance or memory critical use cases)."
   ]
  },
  {
   "cell_type": "markdown",
   "metadata": {},
   "source": [
    "Here are examples of how `Cols` and `Between` can be used to select columns of a data frame."
   ]
  },
  {
   "cell_type": "code",
   "execution_count": 35,
   "metadata": {},
   "outputs": [
    {
     "data": {
      "text/html": [
       "<table class=\"data-frame\"><thead><tr><th></th><th>x1</th><th>x2</th><th>x3</th><th>x4</th><th>x5</th></tr><tr><th></th><th>Float64</th><th>Float64</th><th>Float64</th><th>Float64</th><th>Float64</th></tr></thead><tbody><p>4 rows × 5 columns</p><tr><th>1</th><td>0.596819</td><td>0.502579</td><td>0.680181</td><td>0.28736</td><td>0.594995</td></tr><tr><th>2</th><td>0.601399</td><td>0.456482</td><td>0.256213</td><td>0.209147</td><td>0.225149</td></tr><tr><th>3</th><td>0.328791</td><td>0.278495</td><td>0.409022</td><td>0.3291</td><td>0.600518</td></tr><tr><th>4</th><td>0.360823</td><td>0.275127</td><td>0.693335</td><td>0.629522</td><td>0.395221</td></tr></tbody></table>"
      ],
      "text/latex": [
       "\\begin{tabular}{r|ccccc}\n",
       "\t& x1 & x2 & x3 & x4 & x5\\\\\n",
       "\t\\hline\n",
       "\t& Float64 & Float64 & Float64 & Float64 & Float64\\\\\n",
       "\t\\hline\n",
       "\t1 & 0.596819 & 0.502579 & 0.680181 & 0.28736 & 0.594995 \\\\\n",
       "\t2 & 0.601399 & 0.456482 & 0.256213 & 0.209147 & 0.225149 \\\\\n",
       "\t3 & 0.328791 & 0.278495 & 0.409022 & 0.3291 & 0.600518 \\\\\n",
       "\t4 & 0.360823 & 0.275127 & 0.693335 & 0.629522 & 0.395221 \\\\\n",
       "\\end{tabular}\n"
      ],
      "text/plain": [
       "\u001b[1m4×5 DataFrame\u001b[0m\n",
       "\u001b[1m Row \u001b[0m│\u001b[1m x1       \u001b[0m\u001b[1m x2       \u001b[0m\u001b[1m x3       \u001b[0m\u001b[1m x4       \u001b[0m\u001b[1m x5       \u001b[0m\n",
       "\u001b[1m     \u001b[0m│\u001b[90m Float64  \u001b[0m\u001b[90m Float64  \u001b[0m\u001b[90m Float64  \u001b[0m\u001b[90m Float64  \u001b[0m\u001b[90m Float64  \u001b[0m\n",
       "─────┼──────────────────────────────────────────────────\n",
       "   1 │ 0.596819  0.502579  0.680181  0.28736   0.594995\n",
       "  ⋮  │    ⋮         ⋮         ⋮         ⋮         ⋮\n",
       "\u001b[36m                                          3 rows omitted\u001b[0m"
      ]
     },
     "execution_count": 35,
     "metadata": {},
     "output_type": "execute_result"
    }
   ],
   "source": [
    "x = DataFrame(rand(4, 5), :auto)"
   ]
  },
  {
   "cell_type": "code",
   "execution_count": 36,
   "metadata": {},
   "outputs": [
    {
     "data": {
      "text/html": [
       "<table class=\"data-frame\"><thead><tr><th></th><th>x2</th><th>x3</th><th>x4</th></tr><tr><th></th><th>Float64</th><th>Float64</th><th>Float64</th></tr></thead><tbody><p>4 rows × 3 columns</p><tr><th>1</th><td>0.502579</td><td>0.680181</td><td>0.28736</td></tr><tr><th>2</th><td>0.456482</td><td>0.256213</td><td>0.209147</td></tr><tr><th>3</th><td>0.278495</td><td>0.409022</td><td>0.3291</td></tr><tr><th>4</th><td>0.275127</td><td>0.693335</td><td>0.629522</td></tr></tbody></table>"
      ],
      "text/latex": [
       "\\begin{tabular}{r|ccc}\n",
       "\t& x2 & x3 & x4\\\\\n",
       "\t\\hline\n",
       "\t& Float64 & Float64 & Float64\\\\\n",
       "\t\\hline\n",
       "\t1 & 0.502579 & 0.680181 & 0.28736 \\\\\n",
       "\t2 & 0.456482 & 0.256213 & 0.209147 \\\\\n",
       "\t3 & 0.278495 & 0.409022 & 0.3291 \\\\\n",
       "\t4 & 0.275127 & 0.693335 & 0.629522 \\\\\n",
       "\\end{tabular}\n"
      ],
      "text/plain": [
       "\u001b[1m4×3 DataFrame\u001b[0m\n",
       "\u001b[1m Row \u001b[0m│\u001b[1m x2       \u001b[0m\u001b[1m x3       \u001b[0m\u001b[1m x4       \u001b[0m\n",
       "\u001b[1m     \u001b[0m│\u001b[90m Float64  \u001b[0m\u001b[90m Float64  \u001b[0m\u001b[90m Float64  \u001b[0m\n",
       "─────┼──────────────────────────────\n",
       "   1 │ 0.502579  0.680181  0.28736\n",
       "  ⋮  │    ⋮         ⋮         ⋮\n",
       "\u001b[36m                      3 rows omitted\u001b[0m"
      ]
     },
     "execution_count": 36,
     "metadata": {},
     "output_type": "execute_result"
    }
   ],
   "source": [
    "x[:, Between(:x2, :x4)]"
   ]
  },
  {
   "cell_type": "code",
   "execution_count": 37,
   "metadata": {},
   "outputs": [
    {
     "data": {
      "text/html": [
       "<table class=\"data-frame\"><thead><tr><th></th><th>x1</th><th>x2</th><th>x3</th><th>x4</th></tr><tr><th></th><th>Float64</th><th>Float64</th><th>Float64</th><th>Float64</th></tr></thead><tbody><p>4 rows × 4 columns</p><tr><th>1</th><td>0.596819</td><td>0.502579</td><td>0.680181</td><td>0.28736</td></tr><tr><th>2</th><td>0.601399</td><td>0.456482</td><td>0.256213</td><td>0.209147</td></tr><tr><th>3</th><td>0.328791</td><td>0.278495</td><td>0.409022</td><td>0.3291</td></tr><tr><th>4</th><td>0.360823</td><td>0.275127</td><td>0.693335</td><td>0.629522</td></tr></tbody></table>"
      ],
      "text/latex": [
       "\\begin{tabular}{r|cccc}\n",
       "\t& x1 & x2 & x3 & x4\\\\\n",
       "\t\\hline\n",
       "\t& Float64 & Float64 & Float64 & Float64\\\\\n",
       "\t\\hline\n",
       "\t1 & 0.596819 & 0.502579 & 0.680181 & 0.28736 \\\\\n",
       "\t2 & 0.601399 & 0.456482 & 0.256213 & 0.209147 \\\\\n",
       "\t3 & 0.328791 & 0.278495 & 0.409022 & 0.3291 \\\\\n",
       "\t4 & 0.360823 & 0.275127 & 0.693335 & 0.629522 \\\\\n",
       "\\end{tabular}\n"
      ],
      "text/plain": [
       "\u001b[1m4×4 DataFrame\u001b[0m\n",
       "\u001b[1m Row \u001b[0m│\u001b[1m x1       \u001b[0m\u001b[1m x2       \u001b[0m\u001b[1m x3       \u001b[0m\u001b[1m x4       \u001b[0m\n",
       "\u001b[1m     \u001b[0m│\u001b[90m Float64  \u001b[0m\u001b[90m Float64  \u001b[0m\u001b[90m Float64  \u001b[0m\u001b[90m Float64  \u001b[0m\n",
       "─────┼────────────────────────────────────────\n",
       "   1 │ 0.596819  0.502579  0.680181  0.28736\n",
       "  ⋮  │    ⋮         ⋮         ⋮         ⋮\n",
       "\u001b[36m                                3 rows omitted\u001b[0m"
      ]
     },
     "execution_count": 37,
     "metadata": {},
     "output_type": "execute_result"
    }
   ],
   "source": [
    "x[:, Cols(\"x1\", Between(\"x2\", \"x4\"))]"
   ]
  },
  {
   "cell_type": "markdown",
   "metadata": {},
   "source": [
    "### Views"
   ]
  },
  {
   "cell_type": "markdown",
   "metadata": {},
   "source": [
    "You can simply create a view of a `DataFrame` (it is more efficient than creating a materialized selection). Here are the possible return value options."
   ]
  },
  {
   "cell_type": "code",
   "execution_count": 38,
   "metadata": {},
   "outputs": [
    {
     "data": {
      "text/plain": [
       "2-element view(::Vector{Float64}, 1:2) with eltype Float64:\n",
       " 0.5968194305122594\n",
       " 0.601398691761077"
      ]
     },
     "execution_count": 38,
     "metadata": {},
     "output_type": "execute_result"
    }
   ],
   "source": [
    "@view x[1:2, 1]"
   ]
  },
  {
   "cell_type": "code",
   "execution_count": 39,
   "metadata": {},
   "outputs": [
    {
     "data": {
      "text/plain": [
       "0-dimensional view(::Vector{Float64}, 1) with eltype Float64:\n",
       "0.5968194305122594"
      ]
     },
     "execution_count": 39,
     "metadata": {},
     "output_type": "execute_result"
    }
   ],
   "source": [
    "@view x[1,1]"
   ]
  },
  {
   "cell_type": "code",
   "execution_count": 40,
   "metadata": {},
   "outputs": [
    {
     "data": {
      "text/html": [
       "<p>DataFrameRow (2 columns)</p><table class=\"data-frame\"><thead><tr><th></th><th>x1</th><th>x2</th></tr><tr><th></th><th>Float64</th><th>Float64</th></tr></thead><tbody><tr><th>1</th><td>0.596819</td><td>0.502579</td></tr></tbody></table>"
      ],
      "text/latex": [
       "\\begin{tabular}{r|cc}\n",
       "\t& x1 & x2\\\\\n",
       "\t\\hline\n",
       "\t& Float64 & Float64\\\\\n",
       "\t\\hline\n",
       "\t1 & 0.596819 & 0.502579 \\\\\n",
       "\\end{tabular}\n"
      ],
      "text/plain": [
       "\u001b[1mDataFrameRow\u001b[0m\n",
       "\u001b[1m Row \u001b[0m│\u001b[1m x1       \u001b[0m\u001b[1m x2       \u001b[0m\n",
       "\u001b[1m     \u001b[0m│\u001b[90m Float64  \u001b[0m\u001b[90m Float64  \u001b[0m\n",
       "─────┼────────────────────\n",
       "   1 │ 0.596819  0.502579"
      ]
     },
     "execution_count": 40,
     "metadata": {},
     "output_type": "execute_result"
    }
   ],
   "source": [
    "@view x[1, 1:2] # a DataFrameRow, the same as for x[1, 1:2] without a view"
   ]
  },
  {
   "cell_type": "code",
   "execution_count": 41,
   "metadata": {},
   "outputs": [
    {
     "data": {
      "text/html": [
       "<table class=\"data-frame\"><thead><tr><th></th><th>x1</th><th>x2</th></tr><tr><th></th><th>Float64</th><th>Float64</th></tr></thead><tbody><p>2 rows × 2 columns</p><tr><th>1</th><td>0.596819</td><td>0.502579</td></tr><tr><th>2</th><td>0.601399</td><td>0.456482</td></tr></tbody></table>"
      ],
      "text/latex": [
       "\\begin{tabular}{r|cc}\n",
       "\t& x1 & x2\\\\\n",
       "\t\\hline\n",
       "\t& Float64 & Float64\\\\\n",
       "\t\\hline\n",
       "\t1 & 0.596819 & 0.502579 \\\\\n",
       "\t2 & 0.601399 & 0.456482 \\\\\n",
       "\\end{tabular}\n"
      ],
      "text/plain": [
       "\u001b[1m2×2 SubDataFrame\u001b[0m\n",
       "\u001b[1m Row \u001b[0m│\u001b[1m x1       \u001b[0m\u001b[1m x2       \u001b[0m\n",
       "\u001b[1m     \u001b[0m│\u001b[90m Float64  \u001b[0m\u001b[90m Float64  \u001b[0m\n",
       "─────┼────────────────────\n",
       "   1 │ 0.596819  0.502579\n",
       "   2 │ 0.601399  0.456482"
      ]
     },
     "execution_count": 41,
     "metadata": {},
     "output_type": "execute_result"
    }
   ],
   "source": [
    "@view x[1:2, 1:2] # a SubDataFrame"
   ]
  },
  {
   "cell_type": "markdown",
   "metadata": {},
   "source": [
    "### Adding new columns to a data frame"
   ]
  },
  {
   "cell_type": "code",
   "execution_count": 42,
   "metadata": {},
   "outputs": [
    {
     "data": {
      "text/html": [
       "<table class=\"data-frame\"><thead><tr><th></th></tr><tr><th></th></tr></thead><tbody><p>0 rows × 0 columns</p></tbody></table>"
      ],
      "text/latex": [
       "\\begin{tabular}{r|}\n",
       "\t& \\\\\n",
       "\t\\hline\n",
       "\t& \\\\\n",
       "\t\\hline\n",
       "\\end{tabular}\n"
      ],
      "text/plain": [
       "\u001b[1m0×0 DataFrame\u001b[0m"
      ]
     },
     "execution_count": 42,
     "metadata": {},
     "output_type": "execute_result"
    }
   ],
   "source": [
    "df = DataFrame()"
   ]
  },
  {
   "cell_type": "markdown",
   "metadata": {},
   "source": [
    "using `setproperty!`"
   ]
  },
  {
   "cell_type": "code",
   "execution_count": 43,
   "metadata": {},
   "outputs": [
    {
     "data": {
      "text/html": [
       "<table class=\"data-frame\"><thead><tr><th></th><th>a</th></tr><tr><th></th><th>Int64</th></tr></thead><tbody><p>3 rows × 1 columns</p><tr><th>1</th><td>1</td></tr><tr><th>2</th><td>2</td></tr><tr><th>3</th><td>3</td></tr></tbody></table>"
      ],
      "text/latex": [
       "\\begin{tabular}{r|c}\n",
       "\t& a\\\\\n",
       "\t\\hline\n",
       "\t& Int64\\\\\n",
       "\t\\hline\n",
       "\t1 & 1 \\\\\n",
       "\t2 & 2 \\\\\n",
       "\t3 & 3 \\\\\n",
       "\\end{tabular}\n"
      ],
      "text/plain": [
       "\u001b[1m3×1 DataFrame\u001b[0m\n",
       "\u001b[1m Row \u001b[0m│\u001b[1m a     \u001b[0m\n",
       "\u001b[1m     \u001b[0m│\u001b[90m Int64 \u001b[0m\n",
       "─────┼───────\n",
       "   1 │     1\n",
       "   2 │     2\n",
       "   3 │     3"
      ]
     },
     "execution_count": 43,
     "metadata": {},
     "output_type": "execute_result"
    }
   ],
   "source": [
    "x = [1, 2, 3]\n",
    "df.a = x\n",
    "df"
   ]
  },
  {
   "cell_type": "code",
   "execution_count": 44,
   "metadata": {},
   "outputs": [
    {
     "data": {
      "text/plain": [
       "true"
      ]
     },
     "execution_count": 44,
     "metadata": {},
     "output_type": "execute_result"
    }
   ],
   "source": [
    "df.a === x # no copy is performed"
   ]
  },
  {
   "cell_type": "markdown",
   "metadata": {},
   "source": [
    "using `setindex!`"
   ]
  },
  {
   "cell_type": "code",
   "execution_count": 45,
   "metadata": {},
   "outputs": [
    {
     "data": {
      "text/html": [
       "<table class=\"data-frame\"><thead><tr><th></th><th>a</th><th>b</th><th>c</th></tr><tr><th></th><th>Int64</th><th>Int64</th><th>Int64</th></tr></thead><tbody><p>3 rows × 3 columns</p><tr><th>1</th><td>1</td><td>1</td><td>1</td></tr><tr><th>2</th><td>2</td><td>2</td><td>2</td></tr><tr><th>3</th><td>3</td><td>3</td><td>3</td></tr></tbody></table>"
      ],
      "text/latex": [
       "\\begin{tabular}{r|ccc}\n",
       "\t& a & b & c\\\\\n",
       "\t\\hline\n",
       "\t& Int64 & Int64 & Int64\\\\\n",
       "\t\\hline\n",
       "\t1 & 1 & 1 & 1 \\\\\n",
       "\t2 & 2 & 2 & 2 \\\\\n",
       "\t3 & 3 & 3 & 3 \\\\\n",
       "\\end{tabular}\n"
      ],
      "text/plain": [
       "\u001b[1m3×3 DataFrame\u001b[0m\n",
       "\u001b[1m Row \u001b[0m│\u001b[1m a     \u001b[0m\u001b[1m b     \u001b[0m\u001b[1m c     \u001b[0m\n",
       "\u001b[1m     \u001b[0m│\u001b[90m Int64 \u001b[0m\u001b[90m Int64 \u001b[0m\u001b[90m Int64 \u001b[0m\n",
       "─────┼─────────────────────\n",
       "   1 │     1      1      1\n",
       "   2 │     2      2      2\n",
       "   3 │     3      3      3"
      ]
     },
     "execution_count": 45,
     "metadata": {},
     "output_type": "execute_result"
    }
   ],
   "source": [
    "df[!, :b] = x\n",
    "df[:, :c] = x\n",
    "df"
   ]
  },
  {
   "cell_type": "code",
   "execution_count": 46,
   "metadata": {},
   "outputs": [
    {
     "data": {
      "text/plain": [
       "true"
      ]
     },
     "execution_count": 46,
     "metadata": {},
     "output_type": "execute_result"
    }
   ],
   "source": [
    "df.b === x # no copy"
   ]
  },
  {
   "cell_type": "code",
   "execution_count": 47,
   "metadata": {},
   "outputs": [
    {
     "data": {
      "text/plain": [
       "false"
      ]
     },
     "execution_count": 47,
     "metadata": {},
     "output_type": "execute_result"
    }
   ],
   "source": [
    "df.c === x # copy"
   ]
  },
  {
   "cell_type": "code",
   "execution_count": 48,
   "metadata": {},
   "outputs": [
    {
     "data": {
      "text/html": [
       "<table class=\"data-frame\"><thead><tr><th></th><th>a</th><th>b</th><th>c</th><th>d</th><th>e</th></tr><tr><th></th><th>Int64</th><th>Int64</th><th>Int64</th><th>Int64</th><th>Int64</th></tr></thead><tbody><p>3 rows × 5 columns</p><tr><th>1</th><td>1</td><td>1</td><td>1</td><td>1</td><td>1</td></tr><tr><th>2</th><td>2</td><td>2</td><td>2</td><td>2</td><td>2</td></tr><tr><th>3</th><td>3</td><td>3</td><td>3</td><td>3</td><td>3</td></tr></tbody></table>"
      ],
      "text/latex": [
       "\\begin{tabular}{r|ccccc}\n",
       "\t& a & b & c & d & e\\\\\n",
       "\t\\hline\n",
       "\t& Int64 & Int64 & Int64 & Int64 & Int64\\\\\n",
       "\t\\hline\n",
       "\t1 & 1 & 1 & 1 & 1 & 1 \\\\\n",
       "\t2 & 2 & 2 & 2 & 2 & 2 \\\\\n",
       "\t3 & 3 & 3 & 3 & 3 & 3 \\\\\n",
       "\\end{tabular}\n"
      ],
      "text/plain": [
       "\u001b[1m3×5 DataFrame\u001b[0m\n",
       "\u001b[1m Row \u001b[0m│\u001b[1m a     \u001b[0m\u001b[1m b     \u001b[0m\u001b[1m c     \u001b[0m\u001b[1m d     \u001b[0m\u001b[1m e     \u001b[0m\n",
       "\u001b[1m     \u001b[0m│\u001b[90m Int64 \u001b[0m\u001b[90m Int64 \u001b[0m\u001b[90m Int64 \u001b[0m\u001b[90m Int64 \u001b[0m\u001b[90m Int64 \u001b[0m\n",
       "─────┼───────────────────────────────────\n",
       "   1 │     1      1      1      1      1\n",
       "   2 │     2      2      2      2      2\n",
       "   3 │     3      3      3      3      3"
      ]
     },
     "execution_count": 48,
     "metadata": {},
     "output_type": "execute_result"
    }
   ],
   "source": [
    "df[!, :d] .= x\n",
    "df[:, :e] .= x\n",
    "df"
   ]
  },
  {
   "cell_type": "code",
   "execution_count": 49,
   "metadata": {},
   "outputs": [
    {
     "data": {
      "text/plain": [
       "(false, false)"
      ]
     },
     "execution_count": 49,
     "metadata": {},
     "output_type": "execute_result"
    }
   ],
   "source": [
    "df.d === x, df.e === x # both copy, so in this case `!` and `:` has the same effect"
   ]
  },
  {
   "cell_type": "markdown",
   "metadata": {},
   "source": [
    "note that in our data frame columns `:a` and `:b` store the vector `x` (not a copy)"
   ]
  },
  {
   "cell_type": "code",
   "execution_count": 50,
   "metadata": {},
   "outputs": [
    {
     "data": {
      "text/plain": [
       "true"
      ]
     },
     "execution_count": 50,
     "metadata": {},
     "output_type": "execute_result"
    }
   ],
   "source": [
    "df.a === df.b === x"
   ]
  },
  {
   "cell_type": "markdown",
   "metadata": {},
   "source": [
    "This can lead to silent errors. For example this code leads to a bug (note that calling `pairs` on `eachcol(df)` creates an iterator of (column name, column) pairs):"
   ]
  },
  {
   "cell_type": "code",
   "execution_count": 51,
   "metadata": {},
   "outputs": [
    {
     "name": "stdout",
     "output_type": "stream",
     "text": [
      "a: 3\n",
      "b: 2\n",
      "c: 3\n",
      "d: 3\n",
      "e: 3\n"
     ]
    }
   ],
   "source": [
    "for (n, c) in pairs(eachcol(df))\n",
    "    println(\"$n: \", pop!(c))\n",
    "end"
   ]
  },
  {
   "cell_type": "markdown",
   "metadata": {},
   "source": [
    "note that for column `:b` we printed `2` as `3` was removed from it when we used `pop!` on column `:a`."
   ]
  },
  {
   "cell_type": "markdown",
   "metadata": {},
   "source": [
    "Such mistakes sometimes happen. Because of this DataFrames.jl performs consistency checks before doing an expensive operation (most notably before showing a data frame)."
   ]
  },
  {
   "cell_type": "code",
   "execution_count": 52,
   "metadata": {},
   "outputs": [
    {
     "ename": "AssertionError",
     "evalue": "AssertionError: Data frame is corrupt: length of column :c (2) does not match length of column 1 (1). The column vector has likely been resized unintentionally (either directly or because it is shared with another data frame).",
     "output_type": "error",
     "traceback": [
      "AssertionError: Data frame is corrupt: length of column :c (2) does not match length of column 1 (1). The column vector has likely been resized unintentionally (either directly or because it is shared with another data frame).",
      "",
      "Stacktrace:",
      "  [1] _check_consistency(df::DataFrame)",
      "    @ DataFrames ~/.julia/packages/DataFrames/nxjiD/src/dataframe/dataframe.jl:442",
      "  [2] _show(io::IOContext{IOBuffer}, df::DataFrame; allrows::Bool, allcols::Bool, rowlabel::Symbol, summary::Bool, eltypes::Bool, rowid::Nothing, truncate::Int64, kwargs::Base.Iterators.Pairs{Union{}, Union{}, Tuple{}, NamedTuple{(), Tuple{}}})",
      "    @ DataFrames ~/.julia/packages/DataFrames/nxjiD/src/abstractdataframe/show.jl:162",
      "  [3] #show#695",
      "    @ ~/.julia/packages/DataFrames/nxjiD/src/abstractdataframe/show.jl:337 [inlined]",
      "  [4] show(io::IOContext{IOBuffer}, df::DataFrame)",
      "    @ DataFrames ~/.julia/packages/DataFrames/nxjiD/src/abstractdataframe/show.jl:337",
      "  [5] #show#710",
      "    @ ~/.julia/packages/DataFrames/nxjiD/src/abstractdataframe/io.jl:138 [inlined]",
      "  [6] show",
      "    @ ~/.julia/packages/DataFrames/nxjiD/src/abstractdataframe/io.jl:138 [inlined]",
      "  [7] limitstringmime(mime::MIME{Symbol(\"text/plain\")}, x::DataFrame)",
      "    @ IJulia ~/.julia/packages/IJulia/e8kqU/src/inline.jl:43",
      "  [8] display_mimestring",
      "    @ ~/.julia/packages/IJulia/e8kqU/src/display.jl:71 [inlined]",
      "  [9] display_dict(x::DataFrame)",
      "    @ IJulia ~/.julia/packages/IJulia/e8kqU/src/display.jl:102",
      " [10] #invokelatest#2",
      "    @ ./essentials.jl:708 [inlined]",
      " [11] invokelatest",
      "    @ ./essentials.jl:706 [inlined]",
      " [12] execute_request(socket::ZMQ.Socket, msg::IJulia.Msg)",
      "    @ IJulia ~/.julia/packages/IJulia/e8kqU/src/execute_request.jl:112",
      " [13] #invokelatest#2",
      "    @ ./essentials.jl:708 [inlined]",
      " [14] invokelatest",
      "    @ ./essentials.jl:706 [inlined]",
      " [15] eventloop(socket::ZMQ.Socket)",
      "    @ IJulia ~/.julia/packages/IJulia/e8kqU/src/eventloop.jl:8",
      " [16] (::IJulia.var\"#15#18\")()",
      "    @ IJulia ./task.jl:411"
     ]
    }
   ],
   "source": [
    "df"
   ]
  },
  {
   "cell_type": "markdown",
   "metadata": {},
   "source": [
    "We can investigate the columns to find out what happend:"
   ]
  },
  {
   "cell_type": "code",
   "execution_count": 53,
   "metadata": {},
   "outputs": [
    {
     "data": {
      "text/plain": [
       "5-element Vector{Pair{Symbol, AbstractVector{T} where T}}:\n",
       " :a => [1]\n",
       " :b => [1]\n",
       " :c => [1, 2]\n",
       " :d => [1, 2]\n",
       " :e => [1, 2]"
      ]
     },
     "execution_count": 53,
     "metadata": {},
     "output_type": "execute_result"
    }
   ],
   "source": [
    "collect(pairs(eachcol(df)))"
   ]
  },
  {
   "cell_type": "markdown",
   "metadata": {},
   "source": [
    "The output confirms that the data frame `df` got corrupted."
   ]
  },
  {
   "cell_type": "markdown",
   "metadata": {},
   "source": [
    "DataFrames.jl supports a complete set of `getindex`, `getproperty`, `setindex!`, `setproperty!`, `view`, broadcasting, and broadcasting assignment operations. The details are explained here: http://juliadata.github.io/DataFrames.jl/latest/lib/indexing/."
   ]
  },
  {
   "cell_type": "markdown",
   "metadata": {},
   "source": [
    "### Comparisons"
   ]
  },
  {
   "cell_type": "code",
   "execution_count": 26,
   "metadata": {},
   "outputs": [],
   "source": [
    "using DataFrames"
   ]
  },
  {
   "cell_type": "code",
   "execution_count": 27,
   "metadata": {},
   "outputs": [
    {
     "data": {
      "text/html": [
       "<table class=\"data-frame\"><thead><tr><th></th><th>x1</th><th>x2</th><th>x3</th></tr><tr><th></th><th>Float64</th><th>Float64</th><th>Float64</th></tr></thead><tbody><p>2 rows × 3 columns</p><tr><th>1</th><td>0.82999</td><td>0.0461232</td><td>0.494511</td></tr><tr><th>2</th><td>0.0677762</td><td>0.260066</td><td>0.86949</td></tr></tbody></table>"
      ],
      "text/latex": [
       "\\begin{tabular}{r|ccc}\n",
       "\t& x1 & x2 & x3\\\\\n",
       "\t\\hline\n",
       "\t& Float64 & Float64 & Float64\\\\\n",
       "\t\\hline\n",
       "\t1 & 0.82999 & 0.0461232 & 0.494511 \\\\\n",
       "\t2 & 0.0677762 & 0.260066 & 0.86949 \\\\\n",
       "\\end{tabular}\n"
      ],
      "text/plain": [
       "\u001b[1m2×3 DataFrame\u001b[0m\n",
       "\u001b[1m Row \u001b[0m│\u001b[1m x1        \u001b[0m\u001b[1m x2        \u001b[0m\u001b[1m x3       \u001b[0m\n",
       "\u001b[1m     \u001b[0m│\u001b[90m Float64   \u001b[0m\u001b[90m Float64   \u001b[0m\u001b[90m Float64  \u001b[0m\n",
       "─────┼────────────────────────────────\n",
       "   1 │ 0.82999    0.0461232  0.494511\n",
       "   2 │ 0.0677762  0.260066   0.86949"
      ]
     },
     "execution_count": 27,
     "metadata": {},
     "output_type": "execute_result"
    }
   ],
   "source": [
    "df = DataFrame(rand(2,3), :auto)"
   ]
  },
  {
   "cell_type": "code",
   "execution_count": 28,
   "metadata": {},
   "outputs": [
    {
     "data": {
      "text/html": [
       "<table class=\"data-frame\"><thead><tr><th></th><th>x1</th><th>x2</th><th>x3</th></tr><tr><th></th><th>Float64</th><th>Float64</th><th>Float64</th></tr></thead><tbody><p>2 rows × 3 columns</p><tr><th>1</th><td>0.82999</td><td>0.0461232</td><td>0.494511</td></tr><tr><th>2</th><td>0.0677762</td><td>0.260066</td><td>0.86949</td></tr></tbody></table>"
      ],
      "text/latex": [
       "\\begin{tabular}{r|ccc}\n",
       "\t& x1 & x2 & x3\\\\\n",
       "\t\\hline\n",
       "\t& Float64 & Float64 & Float64\\\\\n",
       "\t\\hline\n",
       "\t1 & 0.82999 & 0.0461232 & 0.494511 \\\\\n",
       "\t2 & 0.0677762 & 0.260066 & 0.86949 \\\\\n",
       "\\end{tabular}\n"
      ],
      "text/plain": [
       "\u001b[1m2×3 DataFrame\u001b[0m\n",
       "\u001b[1m Row \u001b[0m│\u001b[1m x1        \u001b[0m\u001b[1m x2        \u001b[0m\u001b[1m x3       \u001b[0m\n",
       "\u001b[1m     \u001b[0m│\u001b[90m Float64   \u001b[0m\u001b[90m Float64   \u001b[0m\u001b[90m Float64  \u001b[0m\n",
       "─────┼────────────────────────────────\n",
       "   1 │ 0.82999    0.0461232  0.494511\n",
       "   2 │ 0.0677762  0.260066   0.86949"
      ]
     },
     "execution_count": 28,
     "metadata": {},
     "output_type": "execute_result"
    }
   ],
   "source": [
    "df2 = copy(df)"
   ]
  },
  {
   "cell_type": "code",
   "execution_count": 29,
   "metadata": {},
   "outputs": [
    {
     "data": {
      "text/plain": [
       "true"
      ]
     },
     "execution_count": 29,
     "metadata": {},
     "output_type": "execute_result"
    }
   ],
   "source": [
    "df == df2 # compares column names and contents"
   ]
  },
  {
   "cell_type": "markdown",
   "metadata": {},
   "source": [
    "create a minimally different data frame and use `isapprox` for comparison"
   ]
  },
  {
   "cell_type": "code",
   "execution_count": 30,
   "metadata": {},
   "outputs": [
    {
     "data": {
      "text/html": [
       "<table class=\"data-frame\"><thead><tr><th></th><th>x1</th><th>x2</th><th>x3</th></tr><tr><th></th><th>Float64</th><th>Float64</th><th>Float64</th></tr></thead><tbody><p>2 rows × 3 columns</p><tr><th>1</th><td>0.82999</td><td>0.0461232</td><td>0.494511</td></tr><tr><th>2</th><td>0.0677762</td><td>0.260066</td><td>0.86949</td></tr></tbody></table>"
      ],
      "text/latex": [
       "\\begin{tabular}{r|ccc}\n",
       "\t& x1 & x2 & x3\\\\\n",
       "\t\\hline\n",
       "\t& Float64 & Float64 & Float64\\\\\n",
       "\t\\hline\n",
       "\t1 & 0.82999 & 0.0461232 & 0.494511 \\\\\n",
       "\t2 & 0.0677762 & 0.260066 & 0.86949 \\\\\n",
       "\\end{tabular}\n"
      ],
      "text/plain": [
       "\u001b[1m2×3 DataFrame\u001b[0m\n",
       "\u001b[1m Row \u001b[0m│\u001b[1m x1        \u001b[0m\u001b[1m x2        \u001b[0m\u001b[1m x3       \u001b[0m\n",
       "\u001b[1m     \u001b[0m│\u001b[90m Float64   \u001b[0m\u001b[90m Float64   \u001b[0m\u001b[90m Float64  \u001b[0m\n",
       "─────┼────────────────────────────────\n",
       "   1 │ 0.82999    0.0461232  0.494511\n",
       "   2 │ 0.0677762  0.260066   0.86949"
      ]
     },
     "execution_count": 30,
     "metadata": {},
     "output_type": "execute_result"
    }
   ],
   "source": [
    "df3 = df2 .+ eps()"
   ]
  },
  {
   "cell_type": "code",
   "execution_count": 33,
   "metadata": {},
   "outputs": [
    {
     "data": {
      "text/plain": [
       "2.220446049250313e-16"
      ]
     },
     "execution_count": 33,
     "metadata": {},
     "output_type": "execute_result"
    }
   ],
   "source": [
    "eps()"
   ]
  },
  {
   "cell_type": "code",
   "execution_count": 59,
   "metadata": {},
   "outputs": [
    {
     "data": {
      "text/plain": [
       "false"
      ]
     },
     "execution_count": 59,
     "metadata": {},
     "output_type": "execute_result"
    }
   ],
   "source": [
    "df == df3"
   ]
  },
  {
   "cell_type": "code",
   "execution_count": 60,
   "metadata": {},
   "outputs": [
    {
     "data": {
      "text/plain": [
       "true"
      ]
     },
     "execution_count": 60,
     "metadata": {},
     "output_type": "execute_result"
    }
   ],
   "source": [
    "isapprox(df, df3)"
   ]
  },
  {
   "cell_type": "code",
   "execution_count": 35,
   "metadata": {},
   "outputs": [
    {
     "data": {
      "text/plain": [
       "false"
      ]
     },
     "execution_count": 35,
     "metadata": {},
     "output_type": "execute_result"
    }
   ],
   "source": [
    "isapprox(df, df3, atol = eps()/2)"
   ]
  },
  {
   "cell_type": "markdown",
   "metadata": {},
   "source": [
    "`missings` are handled as in Julia Base"
   ]
  },
  {
   "cell_type": "code",
   "execution_count": 36,
   "metadata": {},
   "outputs": [
    {
     "data": {
      "text/html": [
       "<table class=\"data-frame\"><thead><tr><th></th><th>a</th></tr><tr><th></th><th>Missing</th></tr></thead><tbody><p>1 rows × 1 columns</p><tr><th>1</th><td><em>missing</em></td></tr></tbody></table>"
      ],
      "text/latex": [
       "\\begin{tabular}{r|c}\n",
       "\t& a\\\\\n",
       "\t\\hline\n",
       "\t& Missing\\\\\n",
       "\t\\hline\n",
       "\t1 & \\emph{missing} \\\\\n",
       "\\end{tabular}\n"
      ],
      "text/plain": [
       "\u001b[1m1×1 DataFrame\u001b[0m\n",
       "\u001b[1m Row \u001b[0m│\u001b[1m a       \u001b[0m\n",
       "\u001b[1m     \u001b[0m│\u001b[90m Missing \u001b[0m\n",
       "─────┼─────────\n",
       "   1 │\u001b[90m missing \u001b[0m"
      ]
     },
     "execution_count": 36,
     "metadata": {},
     "output_type": "execute_result"
    }
   ],
   "source": [
    "df = DataFrame(a=missing)"
   ]
  },
  {
   "cell_type": "code",
   "execution_count": 37,
   "metadata": {},
   "outputs": [
    {
     "data": {
      "text/plain": [
       "missing"
      ]
     },
     "execution_count": 37,
     "metadata": {},
     "output_type": "execute_result"
    }
   ],
   "source": [
    "df == df"
   ]
  },
  {
   "cell_type": "code",
   "execution_count": 38,
   "metadata": {},
   "outputs": [
    {
     "data": {
      "text/plain": [
       "true"
      ]
     },
     "execution_count": 38,
     "metadata": {},
     "output_type": "execute_result"
    }
   ],
   "source": [
    "df === df"
   ]
  },
  {
   "cell_type": "code",
   "execution_count": 39,
   "metadata": {},
   "outputs": [
    {
     "data": {
      "text/plain": [
       "true"
      ]
     },
     "execution_count": 39,
     "metadata": {},
     "output_type": "execute_result"
    }
   ],
   "source": [
    "isequal(df, df)"
   ]
  }
 ],
 "metadata": {
  "@webio": {
   "lastCommId": null,
   "lastKernelId": null
  },
  "kernelspec": {
   "display_name": "Julia 1.6.1",
   "language": "julia",
   "name": "julia-1.6"
  },
  "language_info": {
   "file_extension": ".jl",
   "mimetype": "application/julia",
   "name": "julia",
   "version": "1.6.1"
  }
 },
 "nbformat": 4,
 "nbformat_minor": 1
}
